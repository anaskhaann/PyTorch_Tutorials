{
  "nbformat": 4,
  "nbformat_minor": 0,
  "metadata": {
    "colab": {
      "provenance": []
    },
    "kernelspec": {
      "name": "python3",
      "display_name": "Python 3"
    },
    "language_info": {
      "name": "python"
    }
  },
  "cells": [
    {
      "cell_type": "markdown",
      "source": [
        "## **NN Module**"
      ],
      "metadata": {
        "id": "WnuiRQFrmPv4"
      }
    },
    {
      "cell_type": "markdown",
      "source": [
        "The torch.nn module in PyTorch is a core library that provides a wide array of classes and functions designed to help developers build neural networks efficiently and effectively.\n",
        "\n",
        "It abstracts the complexity of creating and training neural networks by offering pre-built layers, loss functions, activation functions, and other utilities, enabling you to focus on designing and experimenting with model architectures.\n"
      ],
      "metadata": {
        "id": "t-8NhK4emHJ8"
      }
    },
    {
      "cell_type": "markdown",
      "source": [
        "## **Key Components of torch.nn:**\n",
        "\n",
        "1. **Modules (Layers):**\n",
        "- `nn.Module`: The base class for all neural network modules. Your custom models and layers should subclass this class.\n",
        "\n",
        "- `Common Layers`: Includes layers like nn.Linear (fully connected layer), nn.Conv2d (convolutional layer), nn.LSTM (recurrent layer), and many others.\n",
        "\n",
        "2. **Activation Functions:**\n",
        "\n",
        "- Functions like nn.ReLU, nn.Sigmoid, and nn.Tanh introduce non-linearities to the\n",
        "model, allowing it to learn complex patterns.\n",
        "\n",
        "3. **Loss Functions:**\n",
        "\n",
        "- Provides loss functions such as nn.CrossEntropyLoss, nn.MSELoss, and nn.NLLLoss to quantify the difference between the model's predictions and the actual targets.\n",
        "\n",
        "4. Container Modules:\n",
        "\n",
        "- nn.Sequential: A sequential container to stack layers in order.\n",
        "\n",
        "5. **Regularization and Dropout:**\n",
        "\n",
        "- Layers like nn.Dropout and nn.BatchNorm2d help prevent overfitting and improve\n",
        "the model's ability to generalize to new data.\n"
      ],
      "metadata": {
        "id": "9zsucfZ4mUWi"
      }
    },
    {
      "cell_type": "markdown",
      "source": [
        "**Lets Make a simple Setup**\n",
        "\n",
        "1 neuron with 5 inputs. Gives output\n"
      ],
      "metadata": {
        "id": "KZO34UTWm7al"
      }
    },
    {
      "cell_type": "code",
      "execution_count": 1,
      "metadata": {
        "id": "ql3fRWpIl_7x"
      },
      "outputs": [],
      "source": [
        "import torch\n",
        "import torch.nn as nn"
      ]
    },
    {
      "cell_type": "code",
      "source": [
        "# Create a Model Class\n",
        "\n",
        "class MyModel(nn.Module):\n",
        "\n",
        "  # We define how many input features will be there\n",
        "  def __init__(self, num_features):\n",
        "    # Invoke parent constructor\n",
        "    super().__init__()\n",
        "\n",
        "    # Create Layer\n",
        "    self.linear = nn.Linear(in_features=num_features,out_features=1)\n",
        "    # define input featurs and output features\n",
        "\n",
        "    # Define Activation Function\n",
        "    self.sigmoid = nn.Sigmoid()\n",
        "\n",
        "  def forward_pass(self,features):\n",
        "    \"\"\"\n",
        "    Here we will calculate the output of the forward pass when recieving inputs. Basically (w*x + b)\n",
        "    \"\"\"\n",
        "\n",
        "    z = self.linear(features)\n",
        "    out = self.sigmoid(z)\n",
        "\n",
        "    return out\n"
      ],
      "metadata": {
        "id": "1iq-CP9otqJw"
      },
      "execution_count": 2,
      "outputs": []
    },
    {
      "cell_type": "code",
      "source": [
        "# testing dataset\n",
        "\n",
        "sample_data = torch.rand(10,5)"
      ],
      "metadata": {
        "id": "cP6XJCfOvthg"
      },
      "execution_count": 3,
      "outputs": []
    },
    {
      "cell_type": "code",
      "source": [
        "sample_data.shape"
      ],
      "metadata": {
        "colab": {
          "base_uri": "https://localhost:8080/"
        },
        "id": "acJS1Z36wNZv",
        "outputId": "216ea74f-7bc3-462e-f07c-5e52ce939ec5"
      },
      "execution_count": 4,
      "outputs": [
        {
          "output_type": "execute_result",
          "data": {
            "text/plain": [
              "torch.Size([10, 5])"
            ]
          },
          "metadata": {},
          "execution_count": 4
        }
      ]
    },
    {
      "cell_type": "code",
      "source": [
        "# Create Model\n",
        "\n",
        "model = MyModel(sample_data.shape[1])\n",
        "# why sending shape 1 because we need to send number of features only not rows/data"
      ],
      "metadata": {
        "id": "zeZPMvZnwO1N"
      },
      "execution_count": 5,
      "outputs": []
    },
    {
      "cell_type": "code",
      "source": [
        "\"\"\"\n",
        "We call directly call this forward method without accessing it because in PyTorch they have override the `__call__` method. But for this to work you need to make sure to name the forward pass method as same as `forward`.\n",
        "And then you can simply run model(sample_data) and this will work.\n",
        "\n",
        "But in My case it wont work because my method name is different than default name\n",
        "\"\"\"\n",
        "# forward pass\n",
        "model.forward_pass(sample_data)"
      ],
      "metadata": {
        "colab": {
          "base_uri": "https://localhost:8080/"
        },
        "id": "0A4fD9tOwf-9",
        "outputId": "54963fe3-6782-4006-ea9c-6260871e2dc1"
      },
      "execution_count": 6,
      "outputs": [
        {
          "output_type": "execute_result",
          "data": {
            "text/plain": [
              "tensor([[0.5840],\n",
              "        [0.7338],\n",
              "        [0.6826],\n",
              "        [0.6840],\n",
              "        [0.6630],\n",
              "        [0.6682],\n",
              "        [0.6388],\n",
              "        [0.6831],\n",
              "        [0.6571],\n",
              "        [0.6527]], grad_fn=<SigmoidBackward0>)"
            ]
          },
          "metadata": {},
          "execution_count": 6
        }
      ]
    },
    {
      "cell_type": "code",
      "source": [
        "\"\"\"\n",
        "Weights of the Model.\n",
        "We have not created any weights and bias but still we can acess that\n",
        "\"\"\"\n",
        "\n",
        "# weight\n",
        "print(\"Weights:\",model.linear.weight)\n",
        "print()\n",
        "print(\"Bias:\",model.linear.bias)"
      ],
      "metadata": {
        "colab": {
          "base_uri": "https://localhost:8080/"
        },
        "id": "eQuXBJCywn7F",
        "outputId": "9db9da51-06f4-4a0d-a397-46307ae0a2ed"
      },
      "execution_count": 7,
      "outputs": [
        {
          "output_type": "stream",
          "name": "stdout",
          "text": [
            "Weights: Parameter containing:\n",
            "tensor([[-0.0856,  0.3348,  0.3959,  0.3816,  0.2643]], requires_grad=True)\n",
            "\n",
            "Bias: Parameter containing:\n",
            "tensor([0.1336], requires_grad=True)\n"
          ]
        }
      ]
    },
    {
      "cell_type": "markdown",
      "source": [
        "## **Visualize the Network**"
      ],
      "metadata": {
        "id": "baLl38iLxlO9"
      }
    },
    {
      "cell_type": "code",
      "source": [
        "!pip install torchinfo"
      ],
      "metadata": {
        "colab": {
          "base_uri": "https://localhost:8080/"
        },
        "id": "6ZSNhutDwqjm",
        "outputId": "4f5a172a-1914-472a-a785-1cd45268e682"
      },
      "execution_count": 8,
      "outputs": [
        {
          "output_type": "stream",
          "name": "stdout",
          "text": [
            "Collecting torchinfo\n",
            "  Downloading torchinfo-1.8.0-py3-none-any.whl.metadata (21 kB)\n",
            "Downloading torchinfo-1.8.0-py3-none-any.whl (23 kB)\n",
            "Installing collected packages: torchinfo\n",
            "Successfully installed torchinfo-1.8.0\n"
          ]
        }
      ]
    },
    {
      "cell_type": "code",
      "source": [
        "from torchinfo import summary"
      ],
      "metadata": {
        "id": "dtFUZXwVxr--"
      },
      "execution_count": 9,
      "outputs": []
    },
    {
      "cell_type": "code",
      "source": [
        "summary(model, input_size=(10,5))"
      ],
      "metadata": {
        "colab": {
          "base_uri": "https://localhost:8080/",
          "height": 408
        },
        "id": "g9odvEMNxyIn",
        "outputId": "49bbe667-0c77-4fd1-e4f5-9444f1488a4b"
      },
      "execution_count": 10,
      "outputs": [
        {
          "output_type": "error",
          "ename": "RuntimeError",
          "evalue": "Failed to run torchinfo. See above stack traces for more details. Executed layers up to: []",
          "traceback": [
            "\u001b[0;31m---------------------------------------------------------------------------\u001b[0m",
            "\u001b[0;31mNotImplementedError\u001b[0m                       Traceback (most recent call last)",
            "\u001b[0;32m/usr/local/lib/python3.12/dist-packages/torchinfo/torchinfo.py\u001b[0m in \u001b[0;36mforward_pass\u001b[0;34m(model, x, batch_dim, cache_forward_pass, device, mode, **kwargs)\u001b[0m\n\u001b[1;32m    294\u001b[0m             \u001b[0;32mif\u001b[0m \u001b[0misinstance\u001b[0m\u001b[0;34m(\u001b[0m\u001b[0mx\u001b[0m\u001b[0;34m,\u001b[0m \u001b[0;34m(\u001b[0m\u001b[0mlist\u001b[0m\u001b[0;34m,\u001b[0m \u001b[0mtuple\u001b[0m\u001b[0;34m)\u001b[0m\u001b[0;34m)\u001b[0m\u001b[0;34m:\u001b[0m\u001b[0;34m\u001b[0m\u001b[0;34m\u001b[0m\u001b[0m\n\u001b[0;32m--> 295\u001b[0;31m                 \u001b[0m_\u001b[0m \u001b[0;34m=\u001b[0m \u001b[0mmodel\u001b[0m\u001b[0;34m(\u001b[0m\u001b[0;34m*\u001b[0m\u001b[0mx\u001b[0m\u001b[0;34m,\u001b[0m \u001b[0;34m**\u001b[0m\u001b[0mkwargs\u001b[0m\u001b[0;34m)\u001b[0m\u001b[0;34m\u001b[0m\u001b[0;34m\u001b[0m\u001b[0m\n\u001b[0m\u001b[1;32m    296\u001b[0m             \u001b[0;32melif\u001b[0m \u001b[0misinstance\u001b[0m\u001b[0;34m(\u001b[0m\u001b[0mx\u001b[0m\u001b[0;34m,\u001b[0m \u001b[0mdict\u001b[0m\u001b[0;34m)\u001b[0m\u001b[0;34m:\u001b[0m\u001b[0;34m\u001b[0m\u001b[0;34m\u001b[0m\u001b[0m\n",
            "\u001b[0;32m/usr/local/lib/python3.12/dist-packages/torch/nn/modules/module.py\u001b[0m in \u001b[0;36m_wrapped_call_impl\u001b[0;34m(self, *args, **kwargs)\u001b[0m\n\u001b[1;32m   1772\u001b[0m         \u001b[0;32melse\u001b[0m\u001b[0;34m:\u001b[0m\u001b[0;34m\u001b[0m\u001b[0;34m\u001b[0m\u001b[0m\n\u001b[0;32m-> 1773\u001b[0;31m             \u001b[0;32mreturn\u001b[0m \u001b[0mself\u001b[0m\u001b[0;34m.\u001b[0m\u001b[0m_call_impl\u001b[0m\u001b[0;34m(\u001b[0m\u001b[0;34m*\u001b[0m\u001b[0margs\u001b[0m\u001b[0;34m,\u001b[0m \u001b[0;34m**\u001b[0m\u001b[0mkwargs\u001b[0m\u001b[0;34m)\u001b[0m\u001b[0;34m\u001b[0m\u001b[0;34m\u001b[0m\u001b[0m\n\u001b[0m\u001b[1;32m   1774\u001b[0m \u001b[0;34m\u001b[0m\u001b[0m\n",
            "\u001b[0;32m/usr/local/lib/python3.12/dist-packages/torch/nn/modules/module.py\u001b[0m in \u001b[0;36m_call_impl\u001b[0;34m(self, *args, **kwargs)\u001b[0m\n\u001b[1;32m   1878\u001b[0m         \u001b[0;32mtry\u001b[0m\u001b[0;34m:\u001b[0m\u001b[0;34m\u001b[0m\u001b[0;34m\u001b[0m\u001b[0m\n\u001b[0;32m-> 1879\u001b[0;31m             \u001b[0;32mreturn\u001b[0m \u001b[0minner\u001b[0m\u001b[0;34m(\u001b[0m\u001b[0;34m)\u001b[0m\u001b[0;34m\u001b[0m\u001b[0;34m\u001b[0m\u001b[0m\n\u001b[0m\u001b[1;32m   1880\u001b[0m         \u001b[0;32mexcept\u001b[0m \u001b[0mException\u001b[0m\u001b[0;34m:\u001b[0m\u001b[0;34m\u001b[0m\u001b[0;34m\u001b[0m\u001b[0m\n",
            "\u001b[0;32m/usr/local/lib/python3.12/dist-packages/torch/nn/modules/module.py\u001b[0m in \u001b[0;36minner\u001b[0;34m()\u001b[0m\n\u001b[1;32m   1826\u001b[0m \u001b[0;34m\u001b[0m\u001b[0m\n\u001b[0;32m-> 1827\u001b[0;31m             \u001b[0mresult\u001b[0m \u001b[0;34m=\u001b[0m \u001b[0mforward_call\u001b[0m\u001b[0;34m(\u001b[0m\u001b[0;34m*\u001b[0m\u001b[0margs\u001b[0m\u001b[0;34m,\u001b[0m \u001b[0;34m**\u001b[0m\u001b[0mkwargs\u001b[0m\u001b[0;34m)\u001b[0m\u001b[0;34m\u001b[0m\u001b[0;34m\u001b[0m\u001b[0m\n\u001b[0m\u001b[1;32m   1828\u001b[0m             \u001b[0;32mif\u001b[0m \u001b[0m_global_forward_hooks\u001b[0m \u001b[0;32mor\u001b[0m \u001b[0mself\u001b[0m\u001b[0;34m.\u001b[0m\u001b[0m_forward_hooks\u001b[0m\u001b[0;34m:\u001b[0m\u001b[0;34m\u001b[0m\u001b[0;34m\u001b[0m\u001b[0m\n",
            "\u001b[0;32m/usr/local/lib/python3.12/dist-packages/torch/nn/modules/module.py\u001b[0m in \u001b[0;36m_forward_unimplemented\u001b[0;34m(self, *input)\u001b[0m\n\u001b[1;32m    398\u001b[0m     \"\"\"\n\u001b[0;32m--> 399\u001b[0;31m     raise NotImplementedError(\n\u001b[0m\u001b[1;32m    400\u001b[0m         \u001b[0;34mf'Module [{type(self).__name__}] is missing the required \"forward\" function'\u001b[0m\u001b[0;34m\u001b[0m\u001b[0;34m\u001b[0m\u001b[0m\n",
            "\u001b[0;31mNotImplementedError\u001b[0m: Module [MyModel] is missing the required \"forward\" function",
            "\nThe above exception was the direct cause of the following exception:\n",
            "\u001b[0;31mRuntimeError\u001b[0m                              Traceback (most recent call last)",
            "\u001b[0;32m/tmp/ipython-input-3550045587.py\u001b[0m in \u001b[0;36m<cell line: 0>\u001b[0;34m()\u001b[0m\n\u001b[0;32m----> 1\u001b[0;31m \u001b[0msummary\u001b[0m\u001b[0;34m(\u001b[0m\u001b[0mmodel\u001b[0m\u001b[0;34m,\u001b[0m \u001b[0minput_size\u001b[0m\u001b[0;34m=\u001b[0m\u001b[0;34m(\u001b[0m\u001b[0;36m10\u001b[0m\u001b[0;34m,\u001b[0m\u001b[0;36m5\u001b[0m\u001b[0;34m)\u001b[0m\u001b[0;34m)\u001b[0m\u001b[0;34m\u001b[0m\u001b[0;34m\u001b[0m\u001b[0m\n\u001b[0m",
            "\u001b[0;32m/usr/local/lib/python3.12/dist-packages/torchinfo/torchinfo.py\u001b[0m in \u001b[0;36msummary\u001b[0;34m(model, input_size, input_data, batch_dim, cache_forward_pass, col_names, col_width, depth, device, dtypes, mode, row_settings, verbose, **kwargs)\u001b[0m\n\u001b[1;32m    221\u001b[0m         \u001b[0minput_data\u001b[0m\u001b[0;34m,\u001b[0m \u001b[0minput_size\u001b[0m\u001b[0;34m,\u001b[0m \u001b[0mbatch_dim\u001b[0m\u001b[0;34m,\u001b[0m \u001b[0mdevice\u001b[0m\u001b[0;34m,\u001b[0m \u001b[0mdtypes\u001b[0m\u001b[0;34m\u001b[0m\u001b[0;34m\u001b[0m\u001b[0m\n\u001b[1;32m    222\u001b[0m     )\n\u001b[0;32m--> 223\u001b[0;31m     summary_list = forward_pass(\n\u001b[0m\u001b[1;32m    224\u001b[0m         \u001b[0mmodel\u001b[0m\u001b[0;34m,\u001b[0m \u001b[0mx\u001b[0m\u001b[0;34m,\u001b[0m \u001b[0mbatch_dim\u001b[0m\u001b[0;34m,\u001b[0m \u001b[0mcache_forward_pass\u001b[0m\u001b[0;34m,\u001b[0m \u001b[0mdevice\u001b[0m\u001b[0;34m,\u001b[0m \u001b[0mmodel_mode\u001b[0m\u001b[0;34m,\u001b[0m \u001b[0;34m**\u001b[0m\u001b[0mkwargs\u001b[0m\u001b[0;34m\u001b[0m\u001b[0;34m\u001b[0m\u001b[0m\n\u001b[1;32m    225\u001b[0m     )\n",
            "\u001b[0;32m/usr/local/lib/python3.12/dist-packages/torchinfo/torchinfo.py\u001b[0m in \u001b[0;36mforward_pass\u001b[0;34m(model, x, batch_dim, cache_forward_pass, device, mode, **kwargs)\u001b[0m\n\u001b[1;32m    302\u001b[0m     \u001b[0;32mexcept\u001b[0m \u001b[0mException\u001b[0m \u001b[0;32mas\u001b[0m \u001b[0me\u001b[0m\u001b[0;34m:\u001b[0m\u001b[0;34m\u001b[0m\u001b[0;34m\u001b[0m\u001b[0m\n\u001b[1;32m    303\u001b[0m         \u001b[0mexecuted_layers\u001b[0m \u001b[0;34m=\u001b[0m \u001b[0;34m[\u001b[0m\u001b[0mlayer\u001b[0m \u001b[0;32mfor\u001b[0m \u001b[0mlayer\u001b[0m \u001b[0;32min\u001b[0m \u001b[0msummary_list\u001b[0m \u001b[0;32mif\u001b[0m \u001b[0mlayer\u001b[0m\u001b[0;34m.\u001b[0m\u001b[0mexecuted\u001b[0m\u001b[0;34m]\u001b[0m\u001b[0;34m\u001b[0m\u001b[0;34m\u001b[0m\u001b[0m\n\u001b[0;32m--> 304\u001b[0;31m         raise RuntimeError(\n\u001b[0m\u001b[1;32m    305\u001b[0m             \u001b[0;34m\"Failed to run torchinfo. See above stack traces for more details. \"\u001b[0m\u001b[0;34m\u001b[0m\u001b[0;34m\u001b[0m\u001b[0m\n\u001b[1;32m    306\u001b[0m             \u001b[0;34mf\"Executed layers up to: {executed_layers}\"\u001b[0m\u001b[0;34m\u001b[0m\u001b[0;34m\u001b[0m\u001b[0m\n",
            "\u001b[0;31mRuntimeError\u001b[0m: Failed to run torchinfo. See above stack traces for more details. Executed layers up to: []"
          ]
        }
      ]
    },
    {
      "cell_type": "markdown",
      "source": [
        "## Lets make Another.\n",
        "\n",
        "- 5 inputs\n",
        "- one hidden layer with 3 nuerons\n",
        "- one layer with 1 neuron\n",
        "- final output\n",
        "- Relu Function"
      ],
      "metadata": {
        "id": "4ryhuCVVzc6u"
      }
    },
    {
      "cell_type": "markdown",
      "source": [
        "![image.png](data:image/png;base64,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)"
      ],
      "metadata": {
        "id": "HYMBO5S-z64C"
      }
    },
    {
      "cell_type": "code",
      "source": [
        "import torch\n",
        "import torch.nn as nn"
      ],
      "metadata": {
        "id": "usnFGskh048b"
      },
      "execution_count": 11,
      "outputs": []
    },
    {
      "cell_type": "code",
      "source": [
        "class MyModel2(nn.Module):\n",
        "\n",
        "  def __init__(self, num_features):\n",
        "    # Invoke parent constructor\n",
        "    super().__init__()\n",
        "\n",
        "    # Create Layer 1\n",
        "    self.linear1 = nn.Linear(in_features=num_features,out_features=3)\n",
        "    # Here we will have 3 outputs\n",
        "\n",
        "    # Activation for Hidden Layer\n",
        "    self.relu = nn.ReLU()\n",
        "\n",
        "    # 2nd layer we have 2 inputs and 1 output\n",
        "    self.linear2 = nn.Linear(3, 1)\n",
        "\n",
        "    # Activation for final neuron\n",
        "    self.sigmoid = nn.Sigmoid()\n",
        "\n",
        "\n",
        "  def forward(self,features):\n",
        "\n",
        "    z = self.linear1(features)\n",
        "    out = self.relu(z)\n",
        "    out = self.linear2(out)\n",
        "    out = self.sigmoid(out)\n",
        "\n",
        "    return out\n"
      ],
      "metadata": {
        "id": "h4pXRjDex3D1"
      },
      "execution_count": 12,
      "outputs": []
    },
    {
      "cell_type": "code",
      "source": [
        "example_data = torch.rand(10,5)"
      ],
      "metadata": {
        "id": "FLg9kZ0z07sG"
      },
      "execution_count": 13,
      "outputs": []
    },
    {
      "cell_type": "code",
      "source": [
        "example_data.shape"
      ],
      "metadata": {
        "colab": {
          "base_uri": "https://localhost:8080/"
        },
        "id": "qShAehav1Mps",
        "outputId": "efd08915-43f6-4051-8e74-7292c8962b6c"
      },
      "execution_count": 14,
      "outputs": [
        {
          "output_type": "execute_result",
          "data": {
            "text/plain": [
              "torch.Size([10, 5])"
            ]
          },
          "metadata": {},
          "execution_count": 14
        }
      ]
    },
    {
      "cell_type": "code",
      "source": [
        "model2 = MyModel2(example_data.shape[1])"
      ],
      "metadata": {
        "id": "DGu3JbvJ1NtW"
      },
      "execution_count": 15,
      "outputs": []
    },
    {
      "cell_type": "code",
      "source": [
        "model2.forward(example_data)"
      ],
      "metadata": {
        "colab": {
          "base_uri": "https://localhost:8080/"
        },
        "id": "1xm_tnpl1Suc",
        "outputId": "ec0db207-38fc-4b63-9b7c-94aaaaa607e8"
      },
      "execution_count": 16,
      "outputs": [
        {
          "output_type": "execute_result",
          "data": {
            "text/plain": [
              "tensor([[0.6109],\n",
              "        [0.6100],\n",
              "        [0.5663],\n",
              "        [0.6044],\n",
              "        [0.5610],\n",
              "        [0.6006],\n",
              "        [0.5866],\n",
              "        [0.5881],\n",
              "        [0.6092],\n",
              "        [0.5668]], grad_fn=<SigmoidBackward0>)"
            ]
          },
          "metadata": {},
          "execution_count": 16
        }
      ]
    },
    {
      "cell_type": "code",
      "source": [
        "model2(example_data)"
      ],
      "metadata": {
        "colab": {
          "base_uri": "https://localhost:8080/"
        },
        "id": "Sdnj1Q3j1YK8",
        "outputId": "b83dfd02-d724-482a-82fc-6d7b646af7f1"
      },
      "execution_count": 17,
      "outputs": [
        {
          "output_type": "execute_result",
          "data": {
            "text/plain": [
              "tensor([[0.6109],\n",
              "        [0.6100],\n",
              "        [0.5663],\n",
              "        [0.6044],\n",
              "        [0.5610],\n",
              "        [0.6006],\n",
              "        [0.5866],\n",
              "        [0.5881],\n",
              "        [0.6092],\n",
              "        [0.5668]], grad_fn=<SigmoidBackward0>)"
            ]
          },
          "metadata": {},
          "execution_count": 17
        }
      ]
    },
    {
      "cell_type": "code",
      "source": [
        "# weight\n",
        "print(\"Weights of Layer 1:\",model2.linear1.weight)\n",
        "print()\n",
        "print(\"Weights of Layer 2:\",model2.linear2.weight)\n",
        "print()\n",
        "print(\"Bias of Layer 1:\",model2.linear1.bias)\n",
        "print()\n",
        "print(\"Bias of Layer 2:\",model2.linear2.bias)"
      ],
      "metadata": {
        "colab": {
          "base_uri": "https://localhost:8080/"
        },
        "id": "Nh4O4ErJ1a5s",
        "outputId": "349925f2-0fbb-4e44-ffac-4c8814b4e7fa"
      },
      "execution_count": 18,
      "outputs": [
        {
          "output_type": "stream",
          "name": "stdout",
          "text": [
            "Weights of Layer 1: Parameter containing:\n",
            "tensor([[-0.3749,  0.2808,  0.1507,  0.2820,  0.1003],\n",
            "        [ 0.2700,  0.3917,  0.3206,  0.2002, -0.3624],\n",
            "        [-0.1608, -0.4245,  0.1572,  0.0152,  0.3890]], requires_grad=True)\n",
            "\n",
            "Weights of Layer 2: Parameter containing:\n",
            "tensor([[-0.5249, -0.0631, -0.4505]], requires_grad=True)\n",
            "\n",
            "Bias of Layer 1: Parameter containing:\n",
            "tensor([-0.1179, -0.0886, -0.2974], requires_grad=True)\n",
            "\n",
            "Bias of Layer 2: Parameter containing:\n",
            "tensor([0.4603], requires_grad=True)\n"
          ]
        }
      ]
    },
    {
      "cell_type": "code",
      "source": [
        "from torchinfo import summary"
      ],
      "metadata": {
        "id": "zsn_5yQi1yH-"
      },
      "execution_count": 19,
      "outputs": []
    },
    {
      "cell_type": "code",
      "source": [
        "summary(model2, input_size=(10,5))"
      ],
      "metadata": {
        "colab": {
          "base_uri": "https://localhost:8080/"
        },
        "id": "zAogAbJO116W",
        "outputId": "591e83d7-808f-4419-e696-70102d3c3ce0"
      },
      "execution_count": 20,
      "outputs": [
        {
          "output_type": "execute_result",
          "data": {
            "text/plain": [
              "==========================================================================================\n",
              "Layer (type:depth-idx)                   Output Shape              Param #\n",
              "==========================================================================================\n",
              "MyModel2                                 [10, 1]                   --\n",
              "├─Linear: 1-1                            [10, 3]                   18\n",
              "├─ReLU: 1-2                              [10, 3]                   --\n",
              "├─Linear: 1-3                            [10, 1]                   4\n",
              "├─Sigmoid: 1-4                           [10, 1]                   --\n",
              "==========================================================================================\n",
              "Total params: 22\n",
              "Trainable params: 22\n",
              "Non-trainable params: 0\n",
              "Total mult-adds (Units.MEGABYTES): 0.00\n",
              "==========================================================================================\n",
              "Input size (MB): 0.00\n",
              "Forward/backward pass size (MB): 0.00\n",
              "Params size (MB): 0.00\n",
              "Estimated Total Size (MB): 0.00\n",
              "=========================================================================================="
            ]
          },
          "metadata": {},
          "execution_count": 20
        }
      ]
    },
    {
      "cell_type": "markdown",
      "source": [
        "## **Making it More Simple Using Container**\n"
      ],
      "metadata": {
        "id": "HoppHVhxrBIJ"
      }
    },
    {
      "cell_type": "markdown",
      "source": [
        "There is still lot of task which  we are manually doing such as:\n",
        "\n",
        "- creating individual layers\n",
        "- caculating z and activation function and all.\n",
        "\n",
        "We can replace all this with container."
      ],
      "metadata": {
        "id": "zpI2_WzdrGaF"
      }
    },
    {
      "cell_type": "code",
      "source": [
        "class MyModel3(nn.Module):\n",
        "\n",
        "  def __init__(self, num_features):\n",
        "    # Invoke parent constructor\n",
        "    super().__init__()\n",
        "\n",
        "    \"\"\"\n",
        "    Now here rather than creating each layer individually.\n",
        "    We can simply make it using Sequence Layer.\n",
        "    \"\"\"\n",
        "\n",
        "    self.network = nn.Sequential(\n",
        "      nn.Linear(num_features,3),\n",
        "      # Hidden Layer\n",
        "      nn.ReLU(),\n",
        "      # 2nd layer\n",
        "      nn.Linear(3, 1),\n",
        "      # Activation for final neuron\n",
        "      nn.Sigmoid(),\n",
        "    )\n",
        "\n",
        "  def forward(self,features):\n",
        "    \"\"\"\n",
        "    Now rather than calculating everything.\n",
        "    We will now simply pass the features to network and it will handle all the task.\n",
        "    \"\"\"\n",
        "    out = self.network(features)\n",
        "\n",
        "    return out\n"
      ],
      "metadata": {
        "id": "d_2tXsfhrdrn"
      },
      "execution_count": 21,
      "outputs": []
    },
    {
      "cell_type": "code",
      "source": [
        "example_data = torch.rand(10,5)"
      ],
      "metadata": {
        "id": "3gIDU-XdsaVP"
      },
      "execution_count": 22,
      "outputs": []
    },
    {
      "cell_type": "code",
      "source": [
        "example_data.shape"
      ],
      "metadata": {
        "colab": {
          "base_uri": "https://localhost:8080/"
        },
        "id": "GNwdhkYasgB7",
        "outputId": "6c58fec3-500e-4090-8134-12eba03a8718"
      },
      "execution_count": 23,
      "outputs": [
        {
          "output_type": "execute_result",
          "data": {
            "text/plain": [
              "torch.Size([10, 5])"
            ]
          },
          "metadata": {},
          "execution_count": 23
        }
      ]
    },
    {
      "cell_type": "code",
      "source": [
        "model3 = MyModel3(example_data.shape[1])"
      ],
      "metadata": {
        "id": "UuVcHn72siCv"
      },
      "execution_count": 25,
      "outputs": []
    },
    {
      "cell_type": "code",
      "source": [
        "model3.forward(example_data)"
      ],
      "metadata": {
        "colab": {
          "base_uri": "https://localhost:8080/"
        },
        "id": "V7kp8Ud2sp8W",
        "outputId": "ca5e9494-5e62-4d95-9776-858a5d400295"
      },
      "execution_count": 26,
      "outputs": [
        {
          "output_type": "execute_result",
          "data": {
            "text/plain": [
              "tensor([[0.4123],\n",
              "        [0.3950],\n",
              "        [0.4096],\n",
              "        [0.4063],\n",
              "        [0.4018],\n",
              "        [0.4157],\n",
              "        [0.3937],\n",
              "        [0.3908],\n",
              "        [0.4006],\n",
              "        [0.3992]], grad_fn=<SigmoidBackward0>)"
            ]
          },
          "metadata": {},
          "execution_count": 26
        }
      ]
    },
    {
      "cell_type": "code",
      "source": [
        "# weight\n",
        "print(\"Weights of Layer 1:\",model3.network[0].weight)\n",
        "print()\n",
        "print(\"Weights of Layer 2:\",model3.network[2].weight)\n",
        "print()\n",
        "print(\"Bias of Layer 1:\",model3.network[0].bias)\n",
        "print()\n",
        "print(\"Bias of Layer 2:\",model3.network[2].bias)"
      ],
      "metadata": {
        "colab": {
          "base_uri": "https://localhost:8080/"
        },
        "id": "KSh8R9hRs3ow",
        "outputId": "9675efee-83cf-4b44-a36f-950940ba7396"
      },
      "execution_count": 33,
      "outputs": [
        {
          "output_type": "stream",
          "name": "stdout",
          "text": [
            "Weights of Layer 1: Parameter containing:\n",
            "tensor([[ 0.4159, -0.1183, -0.2755,  0.0148,  0.1741],\n",
            "        [-0.3016, -0.3304,  0.2760,  0.2739, -0.3762],\n",
            "        [-0.2966, -0.2991, -0.1431, -0.1771,  0.3579]], requires_grad=True)\n",
            "\n",
            "Weights of Layer 2: Parameter containing:\n",
            "tensor([[ 0.1649, -0.4494,  0.0422]], requires_grad=True)\n",
            "\n",
            "Bias of Layer 1: Parameter containing:\n",
            "tensor([ 0.3128, -0.1612, -0.0299], requires_grad=True)\n",
            "\n",
            "Bias of Layer 2: Parameter containing:\n",
            "tensor([-0.4640], requires_grad=True)\n"
          ]
        }
      ]
    },
    {
      "cell_type": "markdown",
      "source": [
        "## **Torch Optim Module**"
      ],
      "metadata": {
        "id": "gVvfsVU59zEB"
      }
    },
    {
      "cell_type": "markdown",
      "source": [
        "torch.optim is a module in PyTorch that provides a variety of optimization\n",
        "algorithms used to update the parameters of your model during training.\n",
        "\n",
        "It includes common optimizers like Stochastic Gradient Descent (SGD), Adam,\n",
        "RMSprop, and more.\n",
        "\n",
        "It handles weight updates efficiently, including additional features like learning rate scheduling and weight decay (regularization).\n",
        "\n",
        "The model.parameters() method in PyTorch retrieves an iterator over all the\n",
        "trainable parameters (weights and biases) in a model.\n",
        "These parameters are instances of torch.nn.Parameter and include:\n",
        "- Weights: The weight matrices of layers like nn.Linear, nn.Conv2d, etc.\n",
        "- Biases: The bias terms of layers (if they exist).\n",
        "\n",
        "The optimizer uses these parameters to compute gradients and update them\n",
        "during training.\n"
      ],
      "metadata": {
        "id": "ugAOkmUs94Kh"
      }
    },
    {
      "cell_type": "code",
      "source": [],
      "metadata": {
        "id": "qhkD2FNEtJr_"
      },
      "execution_count": null,
      "outputs": []
    }
  ]
}