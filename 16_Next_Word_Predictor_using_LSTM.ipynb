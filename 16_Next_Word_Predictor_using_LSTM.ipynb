{
  "nbformat": 4,
  "nbformat_minor": 0,
  "metadata": {
    "colab": {
      "provenance": []
    },
    "kernelspec": {
      "name": "python3",
      "display_name": "Python 3"
    },
    "language_info": {
      "name": "python"
    }
  },
  "cells": [
    {
      "cell_type": "markdown",
      "source": [
        "## **NEXT WORD PREDICTION IS BASED ON LANGUAGE MODELLING**\n"
      ],
      "metadata": {
        "id": "zqIgcpOXhfG9"
      }
    },
    {
      "cell_type": "markdown",
      "source": [
        "**Language Modeling** is the task of predicting the next word (or character) in a sequence based on the context of previous words."
      ],
      "metadata": {
        "id": "ceJvsadThlSe"
      }
    },
    {
      "cell_type": "markdown",
      "source": [
        "In Language Modelling the data is mostly unsupervised.\n",
        "\n",
        "- The first thing is we need to convert this unsupervised data into supervised data.\n",
        "\n",
        "- For Each word (or combination of word) we need to make input output pair.\n",
        "\n",
        "- Convert this data into numerical features.\n",
        "\n",
        "- Create Vocabulary.\n",
        "- Replace the input output mapping with this vocabs indexes.\n",
        "- Index to embeddings.\n",
        "- And the same task we did previously\n",
        "- The architecture will be different.\n"
      ],
      "metadata": {
        "id": "TYqumVlKhmFD"
      }
    },
    {
      "cell_type": "code",
      "source": [
        "!pip install nltk"
      ],
      "metadata": {
        "colab": {
          "base_uri": "https://localhost:8080/"
        },
        "id": "YT9lbyJlnbpu",
        "outputId": "a8c890ff-5760-4131-ee22-c269a80c0e4b"
      },
      "execution_count": 1,
      "outputs": [
        {
          "output_type": "stream",
          "name": "stdout",
          "text": [
            "Requirement already satisfied: nltk in /usr/local/lib/python3.12/dist-packages (3.9.1)\n",
            "Requirement already satisfied: click in /usr/local/lib/python3.12/dist-packages (from nltk) (8.2.1)\n",
            "Requirement already satisfied: joblib in /usr/local/lib/python3.12/dist-packages (from nltk) (1.5.2)\n",
            "Requirement already satisfied: regex>=2021.8.3 in /usr/local/lib/python3.12/dist-packages (from nltk) (2024.11.6)\n",
            "Requirement already satisfied: tqdm in /usr/local/lib/python3.12/dist-packages (from nltk) (4.67.1)\n"
          ]
        }
      ]
    },
    {
      "cell_type": "code",
      "source": [
        "import torch\n",
        "import torch.nn as nn\n",
        "import torch.optim as optim\n",
        "import numpy as np\n",
        "from collections import Counter\n",
        "from torch.utils.data import Dataset, DataLoader\n",
        "from nltk.tokenize import word_tokenize\n",
        "import nltk"
      ],
      "metadata": {
        "id": "FpQEd3EJn2oX"
      },
      "execution_count": 2,
      "outputs": []
    },
    {
      "cell_type": "code",
      "source": [
        "my_document = \"\"\"About the Program\n",
        "How much does the Professional plan cost per month?\n",
        "The Professional plan is priced at $19.99 per user, per month, billed annually.\n",
        "Is there a free tier for small teams?\n",
        "Yes, we offer a Basic Free Plan which supports up to 5 users and includes core task management features.\n",
        "How do I integrate TaskFlow with my Slack channel?\n",
        "You can set up the integration by navigating to 'Settings', selecting 'Integrations', and following the prompts to connect your Slack workspace.\n",
        "What kind of security measures are in place to protect my project data?\n",
        "We utilize end-to-end AES 256-bit encryption for all data and are ISO 27001 certified for information security.\n",
        "Can I import existing projects from other software like Trello or Asana?\n",
        "Absolutely. We provide a CSV import tool and direct migration support for Asana and Trello via our integration marketplace.\n",
        "Does TaskFlow support Gantt charts for project visualization?\n",
        "Yes, the Premium and Enterprise plans include full support for dynamic Gantt charts and dependency tracking.\n",
        "What is the process for adding a new team member to a project?\n",
        "In the project dashboard, click the 'Team' tab, then select 'Invite User' and enter their email address.\n",
        "Is it possible to set up recurring tasks?\n",
        "Yes, when creating a task, simply open the 'Recurrence' settings and define the daily, weekly, or monthly cycle.\n",
        "Where can I find video tutorials on using advanced features?\n",
        "All our tutorial videos are available on the 'Help Center' section of our website, organized by feature.\n",
        "How do I submit a feature request or suggest an improvement?\n",
        "You can submit suggestions directly through the 'Feedback' widget located in the bottom-right corner of the application interface.\n",
        "Do you offer an API for custom development?\n",
        "Yes, a comprehensive REST API is available for all paid subscriptions, documented on our developers portal.\n",
        "How do I change the language of the application interface?\n",
        "Go to 'User Profile Settings' and select your preferred language from the 'Locale' dropdown menu. We currently support 12 languages.\n",
        "What is your policy regarding data backup?\n",
        "All user data is backed up hourly to multiple geographically separate servers to ensure high availability and data integrity.\n",
        "Can I track the time spent on individual tasks within the application?\n",
        "Yes, our built-in Time Tracking feature allows users to start and stop timers directly on any task card.\n",
        "I am having trouble logging in, what should I do?\n",
        "First, try the 'Forgot Password' link. If that fails, clear your browser cache or try a different browser.\n",
        "How long is the free trial for the Premium plan?\n",
        "We offer a 14-day, no-commitment free trial of our full Premium features.\n",
        "If I cancel my subscription, will I lose my data immediately?\n",
        "No, your data will be retained for a grace period of 90 days after cancellation, allowing for reactivation or export.\n",
        "Does TaskFlow support custom fields on task cards?\n",
        "Custom fields are fully supported on the Professional and Enterprise plans, allowing you to tailor task metadata.\n",
        "How do I generate a report showing project progress and team workload?\n",
        "In the 'Reports' tab, you can select the project, date range, and metrics (like completion rate and utilization) to generate a PDF or CSV report.\n",
        "Is TaskFlow compliant with major privacy regulations like GDPR and CCPA?\n",
        "Yes, we are fully compliant with both GDPR and CCPA standards for data protection and privacy.\n",
        "Where are your main servers hosted?\n",
        "Our primary cloud servers are hosted with AWS across the US, Europe, and Asia-Pacific regions.\n",
        "How can I get one-on-one help with setting up a complex workflow?\n",
        "Customers on the Premium and Enterprise plans can schedule a free 30-minute onboarding call with a dedicated support specialist.\n",
        "Can I receive notifications via email for task updates?\n",
        "Yes, email notifications are enabled by default, but you can customize your preferences under 'Notification Settings'.\n",
        "Is TaskFlow suitable for Agile project management?\n",
        "Yes, we offer Kanban board views, sprint planning tools, and burndown charts, making us ideal for Agile teams.\n",
        "What is the maximum number of projects I can manage?\n",
        "There is no limit to the number of projects you can create on any of the paid subscription tiers.\n",
        "Can I change the theme or appearance of the application?\n",
        "Yes, you can customize the appearance by selecting light mode, dark mode, or a high-contrast theme in the 'Display Settings'.\n",
        "How often is the software updated?\n",
        "Minor updates and bug fixes are deployed weekly, while major feature releases occur on a quarterly cycle.\n",
        "Do you offer bulk discounts for large enterprises?\n",
        "Yes, we offer special tiered pricing for organizations with over 100 users. Please contact our sales team for a custom quote.\n",
        "What happens if I forget my master password for encryption?\n",
        "For security reasons, we cannot recover your master password. You will need to follow the account recovery process, which may result in data loss if you have no backup key.\n",
        "Can I assign a single task to multiple team members?\n",
        "Yes, you can assign up to five primary owners and an unlimited number of secondary collaborators to any single task.\n",
        "Is the mobile app fully functional compared to the desktop version?\n",
        "The mobile app provides all core task management and communication features, but advanced reporting and administration controls are limited to the desktop version.\n",
        "How do I export my project data?\n",
        "Go to the project settings, select 'Export Data', and choose your preferred format (JSON, CSV, or PDF).\n",
        "Does TaskFlow integrate with Google Calendar or Outlook?\n",
        "Yes, we offer two-way synchronization with both Google Calendar and Microsoft Outlook for deadline and event scheduling.\n",
        "Can I set different access permissions for various users?\n",
        "Yes, our user role management system allows you to define granular permissions (Admin, Editor, Viewer) at both the project and workspace level.\n",
        "Where can I find the official service level agreement (SLA)?\n",
        "The full Service Level Agreement detailing our uptime commitment and response times is published in the 'Legal' section of our website footer.\n",
        "\"\"\"\n"
      ],
      "metadata": {
        "id": "26HtsEQ4n6M_"
      },
      "execution_count": 3,
      "outputs": []
    },
    {
      "cell_type": "markdown",
      "source": [
        "**We are using built in tokenizer this time WORD_TOKENIZER**"
      ],
      "metadata": {
        "id": "eAEAkNK4p56m"
      }
    },
    {
      "cell_type": "code",
      "source": [
        "# download nltk tokenizer\n",
        "nltk.download('punkt')\n",
        "nltk.download('punkt_tab')"
      ],
      "metadata": {
        "colab": {
          "base_uri": "https://localhost:8080/"
        },
        "id": "IgOLUlvFp5Iv",
        "outputId": "546e76da-a925-4d22-cd4f-478257ada6c0"
      },
      "execution_count": 4,
      "outputs": [
        {
          "output_type": "stream",
          "name": "stderr",
          "text": [
            "[nltk_data] Downloading package punkt to /root/nltk_data...\n",
            "[nltk_data]   Unzipping tokenizers/punkt.zip.\n",
            "[nltk_data] Downloading package punkt_tab to /root/nltk_data...\n",
            "[nltk_data]   Unzipping tokenizers/punkt_tab.zip.\n"
          ]
        },
        {
          "output_type": "execute_result",
          "data": {
            "text/plain": [
              "True"
            ]
          },
          "metadata": {},
          "execution_count": 4
        }
      ]
    },
    {
      "cell_type": "code",
      "source": [
        "# Tokenizer\n",
        "tokens = word_tokenize(my_document.lower())"
      ],
      "metadata": {
        "id": "Gu0lLhnmqFIG"
      },
      "execution_count": 5,
      "outputs": []
    },
    {
      "cell_type": "code",
      "source": [
        "# tokens"
      ],
      "metadata": {
        "id": "TQWtyBOsrCR3"
      },
      "execution_count": 6,
      "outputs": []
    },
    {
      "cell_type": "code",
      "source": [
        "\"\"\"\n",
        "Build Vocabulary using the tokens.\n",
        "\n",
        "We will use counter to count the number of unique token and number of occurance.\n",
        "\n",
        "Once we get all unique tokens we will iterate over them and just add the once not in the vocabs.\n",
        "\"\"\"\n",
        "\n",
        "vocabs = {'<unk>':0}\n",
        "\n",
        "# Old Approach\n",
        "# for t in tokens:\n",
        "#   if t not in vocabs:\n",
        "#     vocabs[t] = len(vocabs)\n",
        "\n",
        "# new approach with counter\n",
        "for token in Counter(tokens).keys():\n",
        "  if token not in vocabs:\n",
        "    vocabs[token] = len(vocabs)\n"
      ],
      "metadata": {
        "id": "eE1mQ6EQqUUu"
      },
      "execution_count": 7,
      "outputs": []
    },
    {
      "cell_type": "code",
      "source": [
        "vocabs"
      ],
      "metadata": {
        "colab": {
          "base_uri": "https://localhost:8080/"
        },
        "id": "O14BMQ2Fr__y",
        "outputId": "bfc0fd7f-9182-480e-90fe-aa44a51e02e0"
      },
      "execution_count": 8,
      "outputs": [
        {
          "output_type": "execute_result",
          "data": {
            "text/plain": [
              "{'<unk>': 0,\n",
              " 'about': 1,\n",
              " 'the': 2,\n",
              " 'program': 3,\n",
              " 'how': 4,\n",
              " 'much': 5,\n",
              " 'does': 6,\n",
              " 'professional': 7,\n",
              " 'plan': 8,\n",
              " 'cost': 9,\n",
              " 'per': 10,\n",
              " 'month': 11,\n",
              " '?': 12,\n",
              " 'is': 13,\n",
              " 'priced': 14,\n",
              " 'at': 15,\n",
              " '$': 16,\n",
              " '19.99': 17,\n",
              " 'user': 18,\n",
              " ',': 19,\n",
              " 'billed': 20,\n",
              " 'annually': 21,\n",
              " '.': 22,\n",
              " 'there': 23,\n",
              " 'a': 24,\n",
              " 'free': 25,\n",
              " 'tier': 26,\n",
              " 'for': 27,\n",
              " 'small': 28,\n",
              " 'teams': 29,\n",
              " 'yes': 30,\n",
              " 'we': 31,\n",
              " 'offer': 32,\n",
              " 'basic': 33,\n",
              " 'which': 34,\n",
              " 'supports': 35,\n",
              " 'up': 36,\n",
              " 'to': 37,\n",
              " '5': 38,\n",
              " 'users': 39,\n",
              " 'and': 40,\n",
              " 'includes': 41,\n",
              " 'core': 42,\n",
              " 'task': 43,\n",
              " 'management': 44,\n",
              " 'features': 45,\n",
              " 'do': 46,\n",
              " 'i': 47,\n",
              " 'integrate': 48,\n",
              " 'taskflow': 49,\n",
              " 'with': 50,\n",
              " 'my': 51,\n",
              " 'slack': 52,\n",
              " 'channel': 53,\n",
              " 'you': 54,\n",
              " 'can': 55,\n",
              " 'set': 56,\n",
              " 'integration': 57,\n",
              " 'by': 58,\n",
              " 'navigating': 59,\n",
              " \"'settings\": 60,\n",
              " \"'\": 61,\n",
              " 'selecting': 62,\n",
              " \"'integrations\": 63,\n",
              " 'following': 64,\n",
              " 'prompts': 65,\n",
              " 'connect': 66,\n",
              " 'your': 67,\n",
              " 'workspace': 68,\n",
              " 'what': 69,\n",
              " 'kind': 70,\n",
              " 'of': 71,\n",
              " 'security': 72,\n",
              " 'measures': 73,\n",
              " 'are': 74,\n",
              " 'in': 75,\n",
              " 'place': 76,\n",
              " 'protect': 77,\n",
              " 'project': 78,\n",
              " 'data': 79,\n",
              " 'utilize': 80,\n",
              " 'end-to-end': 81,\n",
              " 'aes': 82,\n",
              " '256-bit': 83,\n",
              " 'encryption': 84,\n",
              " 'all': 85,\n",
              " 'iso': 86,\n",
              " '27001': 87,\n",
              " 'certified': 88,\n",
              " 'information': 89,\n",
              " 'import': 90,\n",
              " 'existing': 91,\n",
              " 'projects': 92,\n",
              " 'from': 93,\n",
              " 'other': 94,\n",
              " 'software': 95,\n",
              " 'like': 96,\n",
              " 'trello': 97,\n",
              " 'or': 98,\n",
              " 'asana': 99,\n",
              " 'absolutely': 100,\n",
              " 'provide': 101,\n",
              " 'csv': 102,\n",
              " 'tool': 103,\n",
              " 'direct': 104,\n",
              " 'migration': 105,\n",
              " 'support': 106,\n",
              " 'via': 107,\n",
              " 'our': 108,\n",
              " 'marketplace': 109,\n",
              " 'gantt': 110,\n",
              " 'charts': 111,\n",
              " 'visualization': 112,\n",
              " 'premium': 113,\n",
              " 'enterprise': 114,\n",
              " 'plans': 115,\n",
              " 'include': 116,\n",
              " 'full': 117,\n",
              " 'dynamic': 118,\n",
              " 'dependency': 119,\n",
              " 'tracking': 120,\n",
              " 'process': 121,\n",
              " 'adding': 122,\n",
              " 'new': 123,\n",
              " 'team': 124,\n",
              " 'member': 125,\n",
              " 'dashboard': 126,\n",
              " 'click': 127,\n",
              " \"'team\": 128,\n",
              " 'tab': 129,\n",
              " 'then': 130,\n",
              " 'select': 131,\n",
              " \"'invite\": 132,\n",
              " 'enter': 133,\n",
              " 'their': 134,\n",
              " 'email': 135,\n",
              " 'address': 136,\n",
              " 'it': 137,\n",
              " 'possible': 138,\n",
              " 'recurring': 139,\n",
              " 'tasks': 140,\n",
              " 'when': 141,\n",
              " 'creating': 142,\n",
              " 'simply': 143,\n",
              " 'open': 144,\n",
              " \"'recurrence\": 145,\n",
              " 'settings': 146,\n",
              " 'define': 147,\n",
              " 'daily': 148,\n",
              " 'weekly': 149,\n",
              " 'monthly': 150,\n",
              " 'cycle': 151,\n",
              " 'where': 152,\n",
              " 'find': 153,\n",
              " 'video': 154,\n",
              " 'tutorials': 155,\n",
              " 'on': 156,\n",
              " 'using': 157,\n",
              " 'advanced': 158,\n",
              " 'tutorial': 159,\n",
              " 'videos': 160,\n",
              " 'available': 161,\n",
              " \"'help\": 162,\n",
              " 'center': 163,\n",
              " 'section': 164,\n",
              " 'website': 165,\n",
              " 'organized': 166,\n",
              " 'feature': 167,\n",
              " 'submit': 168,\n",
              " 'request': 169,\n",
              " 'suggest': 170,\n",
              " 'an': 171,\n",
              " 'improvement': 172,\n",
              " 'suggestions': 173,\n",
              " 'directly': 174,\n",
              " 'through': 175,\n",
              " \"'feedback\": 176,\n",
              " 'widget': 177,\n",
              " 'located': 178,\n",
              " 'bottom-right': 179,\n",
              " 'corner': 180,\n",
              " 'application': 181,\n",
              " 'interface': 182,\n",
              " 'api': 183,\n",
              " 'custom': 184,\n",
              " 'development': 185,\n",
              " 'comprehensive': 186,\n",
              " 'rest': 187,\n",
              " 'paid': 188,\n",
              " 'subscriptions': 189,\n",
              " 'documented': 190,\n",
              " 'developers': 191,\n",
              " 'portal': 192,\n",
              " 'change': 193,\n",
              " 'language': 194,\n",
              " 'go': 195,\n",
              " \"'user\": 196,\n",
              " 'profile': 197,\n",
              " 'preferred': 198,\n",
              " \"'locale\": 199,\n",
              " 'dropdown': 200,\n",
              " 'menu': 201,\n",
              " 'currently': 202,\n",
              " '12': 203,\n",
              " 'languages': 204,\n",
              " 'policy': 205,\n",
              " 'regarding': 206,\n",
              " 'backup': 207,\n",
              " 'backed': 208,\n",
              " 'hourly': 209,\n",
              " 'multiple': 210,\n",
              " 'geographically': 211,\n",
              " 'separate': 212,\n",
              " 'servers': 213,\n",
              " 'ensure': 214,\n",
              " 'high': 215,\n",
              " 'availability': 216,\n",
              " 'integrity': 217,\n",
              " 'track': 218,\n",
              " 'time': 219,\n",
              " 'spent': 220,\n",
              " 'individual': 221,\n",
              " 'within': 222,\n",
              " 'built-in': 223,\n",
              " 'allows': 224,\n",
              " 'start': 225,\n",
              " 'stop': 226,\n",
              " 'timers': 227,\n",
              " 'any': 228,\n",
              " 'card': 229,\n",
              " 'am': 230,\n",
              " 'having': 231,\n",
              " 'trouble': 232,\n",
              " 'logging': 233,\n",
              " 'should': 234,\n",
              " 'first': 235,\n",
              " 'try': 236,\n",
              " \"'forgot\": 237,\n",
              " 'password': 238,\n",
              " 'link': 239,\n",
              " 'if': 240,\n",
              " 'that': 241,\n",
              " 'fails': 242,\n",
              " 'clear': 243,\n",
              " 'browser': 244,\n",
              " 'cache': 245,\n",
              " 'different': 246,\n",
              " 'long': 247,\n",
              " 'trial': 248,\n",
              " '14-day': 249,\n",
              " 'no-commitment': 250,\n",
              " 'cancel': 251,\n",
              " 'subscription': 252,\n",
              " 'will': 253,\n",
              " 'lose': 254,\n",
              " 'immediately': 255,\n",
              " 'no': 256,\n",
              " 'be': 257,\n",
              " 'retained': 258,\n",
              " 'grace': 259,\n",
              " 'period': 260,\n",
              " '90': 261,\n",
              " 'days': 262,\n",
              " 'after': 263,\n",
              " 'cancellation': 264,\n",
              " 'allowing': 265,\n",
              " 'reactivation': 266,\n",
              " 'export': 267,\n",
              " 'fields': 268,\n",
              " 'cards': 269,\n",
              " 'fully': 270,\n",
              " 'supported': 271,\n",
              " 'tailor': 272,\n",
              " 'metadata': 273,\n",
              " 'generate': 274,\n",
              " 'report': 275,\n",
              " 'showing': 276,\n",
              " 'progress': 277,\n",
              " 'workload': 278,\n",
              " \"'reports\": 279,\n",
              " 'date': 280,\n",
              " 'range': 281,\n",
              " 'metrics': 282,\n",
              " '(': 283,\n",
              " 'completion': 284,\n",
              " 'rate': 285,\n",
              " 'utilization': 286,\n",
              " ')': 287,\n",
              " 'pdf': 288,\n",
              " 'compliant': 289,\n",
              " 'major': 290,\n",
              " 'privacy': 291,\n",
              " 'regulations': 292,\n",
              " 'gdpr': 293,\n",
              " 'ccpa': 294,\n",
              " 'both': 295,\n",
              " 'standards': 296,\n",
              " 'protection': 297,\n",
              " 'main': 298,\n",
              " 'hosted': 299,\n",
              " 'primary': 300,\n",
              " 'cloud': 301,\n",
              " 'aws': 302,\n",
              " 'across': 303,\n",
              " 'us': 304,\n",
              " 'europe': 305,\n",
              " 'asia-pacific': 306,\n",
              " 'regions': 307,\n",
              " 'get': 308,\n",
              " 'one-on-one': 309,\n",
              " 'help': 310,\n",
              " 'setting': 311,\n",
              " 'complex': 312,\n",
              " 'workflow': 313,\n",
              " 'customers': 314,\n",
              " 'schedule': 315,\n",
              " '30-minute': 316,\n",
              " 'onboarding': 317,\n",
              " 'call': 318,\n",
              " 'dedicated': 319,\n",
              " 'specialist': 320,\n",
              " 'receive': 321,\n",
              " 'notifications': 322,\n",
              " 'updates': 323,\n",
              " 'enabled': 324,\n",
              " 'default': 325,\n",
              " 'but': 326,\n",
              " 'customize': 327,\n",
              " 'preferences': 328,\n",
              " 'under': 329,\n",
              " \"'notification\": 330,\n",
              " 'suitable': 331,\n",
              " 'agile': 332,\n",
              " 'kanban': 333,\n",
              " 'board': 334,\n",
              " 'views': 335,\n",
              " 'sprint': 336,\n",
              " 'planning': 337,\n",
              " 'tools': 338,\n",
              " 'burndown': 339,\n",
              " 'making': 340,\n",
              " 'ideal': 341,\n",
              " 'maximum': 342,\n",
              " 'number': 343,\n",
              " 'manage': 344,\n",
              " 'limit': 345,\n",
              " 'create': 346,\n",
              " 'tiers': 347,\n",
              " 'theme': 348,\n",
              " 'appearance': 349,\n",
              " 'light': 350,\n",
              " 'mode': 351,\n",
              " 'dark': 352,\n",
              " 'high-contrast': 353,\n",
              " \"'display\": 354,\n",
              " 'often': 355,\n",
              " 'updated': 356,\n",
              " 'minor': 357,\n",
              " 'bug': 358,\n",
              " 'fixes': 359,\n",
              " 'deployed': 360,\n",
              " 'while': 361,\n",
              " 'releases': 362,\n",
              " 'occur': 363,\n",
              " 'quarterly': 364,\n",
              " 'bulk': 365,\n",
              " 'discounts': 366,\n",
              " 'large': 367,\n",
              " 'enterprises': 368,\n",
              " 'special': 369,\n",
              " 'tiered': 370,\n",
              " 'pricing': 371,\n",
              " 'organizations': 372,\n",
              " 'over': 373,\n",
              " '100': 374,\n",
              " 'please': 375,\n",
              " 'contact': 376,\n",
              " 'sales': 377,\n",
              " 'quote': 378,\n",
              " 'happens': 379,\n",
              " 'forget': 380,\n",
              " 'master': 381,\n",
              " 'reasons': 382,\n",
              " 'not': 383,\n",
              " 'recover': 384,\n",
              " 'need': 385,\n",
              " 'follow': 386,\n",
              " 'account': 387,\n",
              " 'recovery': 388,\n",
              " 'may': 389,\n",
              " 'result': 390,\n",
              " 'loss': 391,\n",
              " 'have': 392,\n",
              " 'key': 393,\n",
              " 'assign': 394,\n",
              " 'single': 395,\n",
              " 'members': 396,\n",
              " 'five': 397,\n",
              " 'owners': 398,\n",
              " 'unlimited': 399,\n",
              " 'secondary': 400,\n",
              " 'collaborators': 401,\n",
              " 'mobile': 402,\n",
              " 'app': 403,\n",
              " 'functional': 404,\n",
              " 'compared': 405,\n",
              " 'desktop': 406,\n",
              " 'version': 407,\n",
              " 'provides': 408,\n",
              " 'communication': 409,\n",
              " 'reporting': 410,\n",
              " 'administration': 411,\n",
              " 'controls': 412,\n",
              " 'limited': 413,\n",
              " \"'export\": 414,\n",
              " 'choose': 415,\n",
              " 'format': 416,\n",
              " 'json': 417,\n",
              " 'google': 418,\n",
              " 'calendar': 419,\n",
              " 'outlook': 420,\n",
              " 'two-way': 421,\n",
              " 'synchronization': 422,\n",
              " 'microsoft': 423,\n",
              " 'deadline': 424,\n",
              " 'event': 425,\n",
              " 'scheduling': 426,\n",
              " 'access': 427,\n",
              " 'permissions': 428,\n",
              " 'various': 429,\n",
              " 'role': 430,\n",
              " 'system': 431,\n",
              " 'granular': 432,\n",
              " 'admin': 433,\n",
              " 'editor': 434,\n",
              " 'viewer': 435,\n",
              " 'level': 436,\n",
              " 'official': 437,\n",
              " 'service': 438,\n",
              " 'agreement': 439,\n",
              " 'sla': 440,\n",
              " 'detailing': 441,\n",
              " 'uptime': 442,\n",
              " 'commitment': 443,\n",
              " 'response': 444,\n",
              " 'times': 445,\n",
              " 'published': 446,\n",
              " \"'legal\": 447,\n",
              " 'footer': 448}"
            ]
          },
          "metadata": {},
          "execution_count": 8
        }
      ]
    },
    {
      "cell_type": "code",
      "source": [
        "len(vocabs)"
      ],
      "metadata": {
        "colab": {
          "base_uri": "https://localhost:8080/"
        },
        "id": "BLb2PHctrWXv",
        "outputId": "42a906d2-888b-4a40-d4bf-c6e2e3ac18c8"
      },
      "execution_count": 9,
      "outputs": [
        {
          "output_type": "execute_result",
          "data": {
            "text/plain": [
              "449"
            ]
          },
          "metadata": {},
          "execution_count": 9
        }
      ]
    },
    {
      "cell_type": "code",
      "source": [
        "\"\"\"\n",
        "Extract Sentence from Paragraph.\n",
        "Split on basis of Line.\n",
        "store the sentences in a list.\n",
        "\"\"\"\n",
        "\n",
        "input_sentences = my_document.split('\\n')"
      ],
      "metadata": {
        "id": "Lt9d94-GrY-m"
      },
      "execution_count": 10,
      "outputs": []
    },
    {
      "cell_type": "code",
      "source": [
        "len(input_sentences)"
      ],
      "metadata": {
        "colab": {
          "base_uri": "https://localhost:8080/"
        },
        "id": "2itkccEisiHI",
        "outputId": "bcee54d9-83f6-480a-b5e4-0569fe56bb53"
      },
      "execution_count": 11,
      "outputs": [
        {
          "output_type": "execute_result",
          "data": {
            "text/plain": [
              "72"
            ]
          },
          "metadata": {},
          "execution_count": 11
        }
      ]
    },
    {
      "cell_type": "markdown",
      "source": [
        "**Convert the input sentence into Numbers**\n",
        "\n",
        "- Tokenize the sentence and replace it with there index of vocabs."
      ],
      "metadata": {
        "id": "pBktY61Istm5"
      }
    },
    {
      "cell_type": "code",
      "source": [
        "input_sentences[0]"
      ],
      "metadata": {
        "colab": {
          "base_uri": "https://localhost:8080/",
          "height": 35
        },
        "id": "SLE5SS2jsoAO",
        "outputId": "0750dbe5-2e77-4759-c34b-900d768fc9f8"
      },
      "execution_count": 12,
      "outputs": [
        {
          "output_type": "execute_result",
          "data": {
            "text/plain": [
              "'About the Program'"
            ],
            "application/vnd.google.colaboratory.intrinsic+json": {
              "type": "string"
            }
          },
          "metadata": {},
          "execution_count": 12
        }
      ]
    },
    {
      "cell_type": "code",
      "source": [
        "def text_to_indices(sentence,vocab):\n",
        "  numerical_sentence = []\n",
        "\n",
        "  \"\"\"\n",
        "  Check if the token of the sentence is present in the vocab or not.\n",
        "  If present then return the index of that token from vocab.\n",
        "  If not then return the index of unknown token\n",
        "  \"\"\"\n",
        "  for token in sentence:\n",
        "    if token in vocab:\n",
        "      numerical_sentence.append(vocab[token])\n",
        "    else:\n",
        "      numerical_sentence.append(vocab['<unk>'])\n",
        "\n",
        "  return numerical_sentence"
      ],
      "metadata": {
        "id": "ONcicQCytIfP"
      },
      "execution_count": 13,
      "outputs": []
    },
    {
      "cell_type": "code",
      "source": [
        "input_numerical_sentences = []\n",
        "\n",
        "for sentence in input_sentences:\n",
        "  # word_tokenize(sentence.lower())\n",
        "  num_tok = text_to_indices(word_tokenize(sentence.lower()), vocabs)\n",
        "\n",
        "  input_numerical_sentences.append(num_tok)\n"
      ],
      "metadata": {
        "id": "3aINO0Njs7aO"
      },
      "execution_count": 14,
      "outputs": []
    },
    {
      "cell_type": "code",
      "source": [
        "len(input_numerical_sentences)"
      ],
      "metadata": {
        "colab": {
          "base_uri": "https://localhost:8080/"
        },
        "id": "T8Uh7J0IuXNu",
        "outputId": "29ef4c12-f1b5-44d3-8104-53db52268df0"
      },
      "execution_count": 15,
      "outputs": [
        {
          "output_type": "execute_result",
          "data": {
            "text/plain": [
              "72"
            ]
          },
          "metadata": {},
          "execution_count": 15
        }
      ]
    },
    {
      "cell_type": "code",
      "source": [
        "input_numerical_sentences[0]"
      ],
      "metadata": {
        "colab": {
          "base_uri": "https://localhost:8080/"
        },
        "id": "GRB00DmSubTZ",
        "outputId": "d85bd009-7061-4c08-e242-d859903a1141"
      },
      "execution_count": 16,
      "outputs": [
        {
          "output_type": "execute_result",
          "data": {
            "text/plain": [
              "[1, 2, 3]"
            ]
          },
          "metadata": {},
          "execution_count": 16
        }
      ]
    },
    {
      "cell_type": "markdown",
      "source": [
        "**Now we can see that all our sentence are converted to Numbers**"
      ],
      "metadata": {
        "id": "kviHuwpHudld"
      }
    },
    {
      "cell_type": "markdown",
      "source": [
        "#### Now from these 72 sentences we will generate Training Sequences."
      ],
      "metadata": {
        "id": "9f_-bHMCvEQx"
      }
    },
    {
      "cell_type": "markdown",
      "source": [
        "Example:\n",
        "1st sentence is [1,2,3] So we will get the sequence.\n",
        "```\n",
        "[1], [1,2], [1,2,3]\n",
        "```\n",
        "\n",
        "Basically what comes after what."
      ],
      "metadata": {
        "id": "VEWPPqP1vKka"
      }
    },
    {
      "cell_type": "markdown",
      "source": [
        "![image.png](data:image/png;base64,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)"
      ],
      "metadata": {
        "id": "1vjTsf46xRNV"
      }
    },
    {
      "cell_type": "code",
      "source": [
        "\"\"\"\n",
        "Loop over list of sentences.\n",
        "Loop over range(1, len of each sentence).\n",
        "Why starting from 1 not 0, Becasue we only need sequence not individual\n",
        "Now extarct the start to i+1 part of the sentence\n",
        "\"\"\"\n",
        "training_sequence = []\n",
        "\n",
        "for sentence in input_numerical_sentences:\n",
        "\n",
        "  for i in range(1, len(sentence)):\n",
        "\n",
        "    # print(sentence[:i+1])\n",
        "    training_sequence.append(sentence[:i+1])"
      ],
      "metadata": {
        "id": "8VPBLp7EuY6G"
      },
      "execution_count": 17,
      "outputs": []
    },
    {
      "cell_type": "code",
      "source": [
        "len(training_sequence)"
      ],
      "metadata": {
        "colab": {
          "base_uri": "https://localhost:8080/"
        },
        "id": "NN3bBGjjyUQt",
        "outputId": "0cbbfcc8-d99a-4d01-81b5-0b785592b7d3"
      },
      "execution_count": 18,
      "outputs": [
        {
          "output_type": "execute_result",
          "data": {
            "text/plain": [
              "1070"
            ]
          },
          "metadata": {},
          "execution_count": 18
        }
      ]
    },
    {
      "cell_type": "markdown",
      "source": [
        "This is the final lenght of the training data.\n",
        "\n",
        "- Now the problem is each sequence have different length.\n",
        "\n",
        "- When we send the sequence in Batches then our batches will wont work parallely. Because it needs all elements in that batch to be of same size.\n",
        "\n",
        "- Thus to make everything uniform we need to add **Padding**"
      ],
      "metadata": {
        "id": "Uemx_DVOyo1N"
      }
    },
    {
      "cell_type": "code",
      "source": [
        "print(training_sequence[0])\n",
        "print('='*10)\n",
        "print(training_sequence[1])\n",
        "print('='*10)\n",
        "print(training_sequence[2])\n",
        "print('='*10)\n",
        "print(training_sequence[3])\n",
        "print('='*10)\n",
        "print(training_sequence[4])"
      ],
      "metadata": {
        "colab": {
          "base_uri": "https://localhost:8080/"
        },
        "id": "WD4m4izeyni2",
        "outputId": "27ef8b21-7e6d-45f1-e419-cf978faaab4d"
      },
      "execution_count": 19,
      "outputs": [
        {
          "output_type": "stream",
          "name": "stdout",
          "text": [
            "[1, 2]\n",
            "==========\n",
            "[1, 2, 3]\n",
            "==========\n",
            "[4, 5]\n",
            "==========\n",
            "[4, 5, 6]\n",
            "==========\n",
            "[4, 5, 6, 2]\n"
          ]
        }
      ]
    },
    {
      "cell_type": "markdown",
      "source": [
        "- Now when we will send out 1070 sentences all wil have different shapes. So batching will not work.\n",
        "\n",
        "- How we will do the padding??\n",
        "- We will add zeros.\n",
        "\n",
        "- Where we will add zeros before or after current values??\n",
        "- Before current values so that we can easily extract last value as `next sequence.`(target Lable)\n",
        "\n",
        "- HOw many zeros and why needed zero???\n",
        "\n",
        "We can make the lenght of each data same by either picking the biggest length word and adding zeros to each word to make all word of same size.\n",
        "Example: Biggest--> 9999, Rest--> 2,3,4.\n",
        "\n",
        "After Making uniform each will have same digits ==>> 0002, 0003,0004, 9999.\n",
        "\n",
        "**This is what we are going to do because it is most effiecient way**\n",
        "\n",
        "---\n",
        "\n",
        "Or else we can pick the smallest and make all the word smallest, But this is not suitable\n"
      ],
      "metadata": {
        "id": "c-efwXuTokZO"
      }
    },
    {
      "cell_type": "markdown",
      "source": [
        "**HOw we are going to do that**\n",
        "\n",
        "- find the longest sequence in training_sequence. (our case 35)\n",
        "\n",
        "- Now add 35 zeroes in start of each token. But remove the number of zeros equal to number of tokens present in it.\n",
        "\n",
        "- That means if sequence has 5 numbers already inside it, then add 30 zeros so overall length will be 35.\n"
      ],
      "metadata": {
        "id": "fBjOrs6PqKJN"
      }
    },
    {
      "cell_type": "code",
      "source": [
        "length_list = []\n",
        "\n",
        "# calculate the lenght of each sequence\n",
        "for sequence in training_sequence:\n",
        "  length_list.append(len(sequence))\n",
        "\n",
        "# get the max sequence\n",
        "max(length_list)\n"
      ],
      "metadata": {
        "colab": {
          "base_uri": "https://localhost:8080/"
        },
        "id": "LQC8I_9UofM1",
        "outputId": "a5b9f30e-d747-46ca-9b8d-14145c90b46d"
      },
      "execution_count": 20,
      "outputs": [
        {
          "output_type": "execute_result",
          "data": {
            "text/plain": [
              "35"
            ]
          },
          "metadata": {},
          "execution_count": 20
        }
      ]
    },
    {
      "cell_type": "code",
      "source": [
        "\"\"\"\n",
        "Padd zero at start of each sequence.\n",
        "Add 35 zeros - len(current sequence)\n",
        "\"\"\"\n",
        "\n",
        "padded_training_sequence = []\n",
        "\n",
        "for sequence in training_sequence:\n",
        "\n",
        "  # This is the logic (5 characters then add 30 zeros only)\n",
        "  # Generate zeros\n",
        "  zeroes_list = [0]*(max(length_list)- len(sequence))\n",
        "\n",
        "  # add zeros at start\n",
        "  padded_training_sequence.append(zeroes_list + sequence)"
      ],
      "metadata": {
        "id": "kGfg6udfqpvc"
      },
      "execution_count": 21,
      "outputs": []
    },
    {
      "cell_type": "code",
      "source": [
        "len(padded_training_sequence)"
      ],
      "metadata": {
        "colab": {
          "base_uri": "https://localhost:8080/"
        },
        "id": "0j2jNeH5r1YE",
        "outputId": "dccfc5a8-b921-4868-d24e-f268bb76d4dc"
      },
      "execution_count": 22,
      "outputs": [
        {
          "output_type": "execute_result",
          "data": {
            "text/plain": [
              "1070"
            ]
          },
          "metadata": {},
          "execution_count": 22
        }
      ]
    },
    {
      "cell_type": "code",
      "source": [
        "print(len(padded_training_sequence[1]))\n",
        "print('='*30)\n",
        "print(len(padded_training_sequence[2]))\n",
        "print('='*30)\n",
        "print(len(padded_training_sequence[3]))\n",
        "print('='*30)"
      ],
      "metadata": {
        "colab": {
          "base_uri": "https://localhost:8080/"
        },
        "id": "qCk9O9k9r2oL",
        "outputId": "6b661a53-a6c6-4cba-e308-a7b98b5b3be4"
      },
      "execution_count": 23,
      "outputs": [
        {
          "output_type": "stream",
          "name": "stdout",
          "text": [
            "35\n",
            "==============================\n",
            "35\n",
            "==============================\n",
            "35\n",
            "==============================\n"
          ]
        }
      ]
    },
    {
      "cell_type": "markdown",
      "source": [
        "Now we have make them uniform sucessfully"
      ],
      "metadata": {
        "id": "kVk30a8WsD_j"
      }
    },
    {
      "cell_type": "code",
      "source": [
        "\"\"\"\n",
        "Convert them to Tensors\n",
        "\"\"\"\n",
        "\n",
        "padded_training_sequence = torch.tensor(padded_training_sequence, dtype=torch.long)"
      ],
      "metadata": {
        "id": "Ca2kr9Ffr4eT"
      },
      "execution_count": 24,
      "outputs": []
    },
    {
      "cell_type": "code",
      "source": [
        "padded_training_sequence"
      ],
      "metadata": {
        "colab": {
          "base_uri": "https://localhost:8080/"
        },
        "id": "xlkeV7v6sY88",
        "outputId": "3c83db09-00fc-4b42-d051-84054ef4bec1"
      },
      "execution_count": 25,
      "outputs": [
        {
          "output_type": "execute_result",
          "data": {
            "text/plain": [
              "tensor([[  0,   0,   0,  ...,   0,   1,   2],\n",
              "        [  0,   0,   0,  ...,   1,   2,   3],\n",
              "        [  0,   0,   0,  ...,   0,   4,   5],\n",
              "        ...,\n",
              "        [  0,   0,   0,  ...,  71, 108, 165],\n",
              "        [  0,   0,   0,  ..., 108, 165, 448],\n",
              "        [  0,   0,   0,  ..., 165, 448,  22]])"
            ]
          },
          "metadata": {},
          "execution_count": 25
        }
      ]
    },
    {
      "cell_type": "code",
      "source": [
        "padded_training_sequence.shape"
      ],
      "metadata": {
        "colab": {
          "base_uri": "https://localhost:8080/"
        },
        "id": "WvfV-pPKsZyz",
        "outputId": "dce4aaf8-7f01-4110-f115-f5d38f6c2bcd"
      },
      "execution_count": 26,
      "outputs": [
        {
          "output_type": "execute_result",
          "data": {
            "text/plain": [
              "torch.Size([1070, 35])"
            ]
          },
          "metadata": {},
          "execution_count": 26
        }
      ]
    },
    {
      "cell_type": "markdown",
      "source": [
        "**Now we have to Extarct X and Y from This**\n",
        "\n",
        "This is simple because for y we have to just extarct the last value"
      ],
      "metadata": {
        "id": "_w0s7widvNwb"
      }
    },
    {
      "cell_type": "code",
      "source": [
        "# all till last\n",
        "x = padded_training_sequence[:,:-1]\n",
        "\n",
        "# all rows of last only\n",
        "y = padded_training_sequence[:,-1]"
      ],
      "metadata": {
        "id": "QpXzlGTmscCr"
      },
      "execution_count": 27,
      "outputs": []
    },
    {
      "cell_type": "code",
      "source": [
        "x"
      ],
      "metadata": {
        "colab": {
          "base_uri": "https://localhost:8080/"
        },
        "id": "gOQnxVgHvgD7",
        "outputId": "1556e963-3101-4bbf-d49a-a3e67f51b033"
      },
      "execution_count": 28,
      "outputs": [
        {
          "output_type": "execute_result",
          "data": {
            "text/plain": [
              "tensor([[  0,   0,   0,  ...,   0,   0,   1],\n",
              "        [  0,   0,   0,  ...,   0,   1,   2],\n",
              "        [  0,   0,   0,  ...,   0,   0,   4],\n",
              "        ...,\n",
              "        [  0,   0,   0,  ..., 164,  71, 108],\n",
              "        [  0,   0,   0,  ...,  71, 108, 165],\n",
              "        [  0,   0,   0,  ..., 108, 165, 448]])"
            ]
          },
          "metadata": {},
          "execution_count": 28
        }
      ]
    },
    {
      "cell_type": "code",
      "source": [
        "y"
      ],
      "metadata": {
        "colab": {
          "base_uri": "https://localhost:8080/"
        },
        "id": "4JvIhRh7vgmr",
        "outputId": "d1e3a5d1-2858-4a30-afd8-deca378a44c6"
      },
      "execution_count": 29,
      "outputs": [
        {
          "output_type": "execute_result",
          "data": {
            "text/plain": [
              "tensor([  2,   3,   5,  ..., 165, 448,  22])"
            ]
          },
          "metadata": {},
          "execution_count": 29
        }
      ]
    },
    {
      "cell_type": "code",
      "source": [
        "x.shape"
      ],
      "metadata": {
        "colab": {
          "base_uri": "https://localhost:8080/"
        },
        "id": "pNoy9UscvhBc",
        "outputId": "2a44e605-76e7-47ec-fc85-6dea849b2243"
      },
      "execution_count": 30,
      "outputs": [
        {
          "output_type": "execute_result",
          "data": {
            "text/plain": [
              "torch.Size([1070, 34])"
            ]
          },
          "metadata": {},
          "execution_count": 30
        }
      ]
    },
    {
      "cell_type": "code",
      "source": [
        "y.shape"
      ],
      "metadata": {
        "colab": {
          "base_uri": "https://localhost:8080/"
        },
        "id": "hcJxgWHXvhoD",
        "outputId": "8254b49a-9247-44fb-f893-5acc9717ce8a"
      },
      "execution_count": 31,
      "outputs": [
        {
          "output_type": "execute_result",
          "data": {
            "text/plain": [
              "torch.Size([1070])"
            ]
          },
          "metadata": {},
          "execution_count": 31
        }
      ]
    },
    {
      "cell_type": "markdown",
      "source": [
        "**Data Set Class**"
      ],
      "metadata": {
        "id": "-7MdTTcWvnnL"
      }
    },
    {
      "cell_type": "code",
      "source": [
        "class CustomDataset(Dataset):\n",
        "\n",
        "  # constructor\n",
        "  def __init__(self, x ,y):\n",
        "    self.x = x\n",
        "    self.y = y\n",
        "\n",
        "  # len\n",
        "  def __len__(self):\n",
        "    return self.x.shape[0]\n",
        "\n",
        "  # getitem\n",
        "  def __getitem__(self, index):\n",
        "    return self.x[index], self.y[index]\n"
      ],
      "metadata": {
        "id": "pzYnQ_NXvi4D"
      },
      "execution_count": 32,
      "outputs": []
    },
    {
      "cell_type": "code",
      "source": [
        "dataset = CustomDataset(x, y)"
      ],
      "metadata": {
        "id": "3-FfaGHawGgk"
      },
      "execution_count": 33,
      "outputs": []
    },
    {
      "cell_type": "code",
      "source": [
        "len(dataset)"
      ],
      "metadata": {
        "colab": {
          "base_uri": "https://localhost:8080/"
        },
        "id": "-RA-YooPwKKr",
        "outputId": "523c792f-8ed4-46fc-8d0d-d3953de48185"
      },
      "execution_count": 34,
      "outputs": [
        {
          "output_type": "execute_result",
          "data": {
            "text/plain": [
              "1070"
            ]
          },
          "metadata": {},
          "execution_count": 34
        }
      ]
    },
    {
      "cell_type": "code",
      "source": [
        "dataset[1]"
      ],
      "metadata": {
        "colab": {
          "base_uri": "https://localhost:8080/"
        },
        "id": "c82oJHnmwLVb",
        "outputId": "da494691-d1bc-4a66-b220-8f8a5ae6c3d6"
      },
      "execution_count": 35,
      "outputs": [
        {
          "output_type": "execute_result",
          "data": {
            "text/plain": [
              "(tensor([0, 0, 0, 0, 0, 0, 0, 0, 0, 0, 0, 0, 0, 0, 0, 0, 0, 0, 0, 0, 0, 0, 0, 0,\n",
              "         0, 0, 0, 0, 0, 0, 0, 0, 1, 2]),\n",
              " tensor(3))"
            ]
          },
          "metadata": {},
          "execution_count": 35
        }
      ]
    },
    {
      "cell_type": "markdown",
      "source": [
        "**Data Loader**"
      ],
      "metadata": {
        "id": "375O8BkYwRN8"
      }
    },
    {
      "cell_type": "code",
      "source": [
        "dataloader = DataLoader(dataset, batch_size=32, shuffle=True)"
      ],
      "metadata": {
        "id": "LH6e1emGwNE7"
      },
      "execution_count": 36,
      "outputs": []
    },
    {
      "cell_type": "code",
      "source": [
        "len(dataloader)\n",
        "# 34 batches 1070/32"
      ],
      "metadata": {
        "colab": {
          "base_uri": "https://localhost:8080/"
        },
        "id": "vLFIhU7hwYxM",
        "outputId": "9ccdc3e8-c100-49a9-fc14-266b4dc967ca"
      },
      "execution_count": 37,
      "outputs": [
        {
          "output_type": "execute_result",
          "data": {
            "text/plain": [
              "34"
            ]
          },
          "metadata": {},
          "execution_count": 37
        }
      ]
    },
    {
      "cell_type": "code",
      "source": [
        "# for x,y in dataloader:\n",
        "#   print(x.shape,y.shape)\n",
        "# for x,y in dataloader:\n",
        "#   print(x,y)"
      ],
      "metadata": {
        "id": "i5sTGDguwZ7c"
      },
      "execution_count": 38,
      "outputs": []
    },
    {
      "cell_type": "markdown",
      "source": [
        "## **Model Building**"
      ],
      "metadata": {
        "id": "pGHF5hnlxS-L"
      }
    },
    {
      "cell_type": "markdown",
      "source": [
        "- We are extracting (32,34) as batches and send it to model. But before that we need to convert them into vector of dimension 100 as embedding.\n",
        "\n",
        "- This will then become\n",
        "`(32,34,100)`\n",
        "\n",
        "- This `(32,34,100)` will go to our LSTM Architecture."
      ],
      "metadata": {
        "id": "sWydc-C7xzZv"
      }
    },
    {
      "cell_type": "markdown",
      "source": [
        "![image.png](data:image/png;base64,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)"
      ],
      "metadata": {
        "id": "BfTo2ZtgxzT9"
      }
    },
    {
      "cell_type": "markdown",
      "source": [
        "**What Happen in LSTM Cell**\n",
        "\n",
        "- Suppose we have a 1 single input(1,34,100).\n",
        "\n",
        "- We send a single embedding(input) at single time. Along with this we recieve cell state and hidden state as input.\n",
        "\n",
        "- After some processing inside we get the updated cell state and updated hidden state output at each time stamp.\n",
        "\n",
        "- If we are at the last time stamp then the last step hidden state will become the final output to user.\n",
        "\n",
        "---\n"
      ],
      "metadata": {
        "id": "HowhxmTfxzMj"
      }
    },
    {
      "cell_type": "markdown",
      "source": [
        "1. We send (1,34,100) at t=1, Here h=1 & c=1 will be some random number.\n",
        "\n",
        "Here we have 34 words of each 100 dimension so we will send 1 word of 100 dimension to it.\n",
        "\n",
        "2. Now we will recieve h=2 and c=2 after processing which will act as input to second cell and next word from our 34 words.\n",
        "\n",
        "3. Now we will Loop this 34 times for a single sequence because our sentence have 34 words.\n",
        "\n",
        "---\n",
        "\n",
        "Now the same process will happen for a batch i.e In parellel for 32 set.\n",
        "\n",
        "- 1st word of all 32 batch will go to input at t=1, after processing 2nd word of all 32 batch will go to input at t=2. and soo on.\n",
        "\n",
        "- We will do this until all words are completed\n",
        "\n",
        "---\n",
        "\n",
        "**This was also the reason we made our inputs of same size for processing all sequence in parallel.**"
      ],
      "metadata": {
        "id": "qzgkNzxP18_D"
      }
    },
    {
      "cell_type": "code",
      "source": [
        "class MyLSTM(nn.Module):\n",
        "\n",
        "  # constructor\n",
        "  def __init__(self, vocab_size):\n",
        "    super().__init__()\n",
        "\n",
        "    # create embedding layer\n",
        "    self.embedding = nn.Embedding(vocab_size, embedding_dim=100)\n",
        "\n",
        "    # LSTM Layer (input size, Number of neurons inside, batch_first=True)\n",
        "    self.lstm = nn.LSTM(input_size=100,hidden_size=150,batch_first=True)\n",
        "\n",
        "    # Linear(Input ,One Logit Per word)\n",
        "    self.fc=nn.Linear(150, vocab_size)\n",
        "\n",
        "  # forward\n",
        "  def forward(self,sentence):\n",
        "    \"\"\"\n",
        "    Now we know that we Recieve 3 inputs from\n",
        "    See the Below test code for better understanding\n",
        "    \"\"\"\n",
        "    # first embedd the sentence\n",
        "    embedded_input = self.embedding(sentence)\n",
        "\n",
        "    # intermediate, (final_state , cell_state)\n",
        "    intermediate_hidden_states,(final_hidden_state, final_cell_state) =  self.lstm(embedded_input)\n",
        "\n",
        "    # we need final_hidden_state\n",
        "    final_output = self.fc(final_hidden_state.squeeze(0))\n",
        "\n",
        "    return final_output"
      ],
      "metadata": {
        "id": "IadtmxDtwp70"
      },
      "execution_count": 39,
      "outputs": []
    },
    {
      "cell_type": "markdown",
      "source": [
        "#### For testing:Manually Create Layers\n"
      ],
      "metadata": {
        "id": "sto9qF9t9GGd"
      }
    },
    {
      "cell_type": "code",
      "source": [
        "x = nn.Embedding(len(vocabs), 100)\n",
        "y = nn.LSTM(100,150,batch_first=True)\n",
        "z = nn.Linear(150,len(vocabs))"
      ],
      "metadata": {
        "id": "kQ6nu_ya5-Z5"
      },
      "execution_count": 40,
      "outputs": []
    },
    {
      "cell_type": "code",
      "source": [
        "dataset[0][0].shape"
      ],
      "metadata": {
        "colab": {
          "base_uri": "https://localhost:8080/"
        },
        "id": "UMed_wCd6rL5",
        "outputId": "b739b385-b24e-461b-c301-62dc9df20e64"
      },
      "execution_count": 41,
      "outputs": [
        {
          "output_type": "execute_result",
          "data": {
            "text/plain": [
              "torch.Size([34])"
            ]
          },
          "metadata": {},
          "execution_count": 41
        }
      ]
    },
    {
      "cell_type": "code",
      "source": [
        "a = dataset[0][0].unsqueeze(0)"
      ],
      "metadata": {
        "id": "yeNA5eKO6suy"
      },
      "execution_count": 42,
      "outputs": []
    },
    {
      "cell_type": "code",
      "source": [
        "x(a).shape"
      ],
      "metadata": {
        "colab": {
          "base_uri": "https://localhost:8080/"
        },
        "id": "mZpy6btk6zWB",
        "outputId": "0ef76e08-e487-4ec3-e707-93ff148e1726"
      },
      "execution_count": 43,
      "outputs": [
        {
          "output_type": "execute_result",
          "data": {
            "text/plain": [
              "torch.Size([1, 34, 100])"
            ]
          },
          "metadata": {},
          "execution_count": 43
        }
      ]
    },
    {
      "cell_type": "markdown",
      "source": [
        "1 Batch, with 34 words, each word with 100 dimensions"
      ],
      "metadata": {
        "id": "rouf8Kyf66n6"
      }
    },
    {
      "cell_type": "code",
      "source": [
        "b = x(a)"
      ],
      "metadata": {
        "id": "8i3pS_hC7FGu"
      },
      "execution_count": 44,
      "outputs": []
    },
    {
      "cell_type": "code",
      "source": [
        "b"
      ],
      "metadata": {
        "colab": {
          "base_uri": "https://localhost:8080/"
        },
        "id": "Ic0KdD3z63dh",
        "outputId": "1d874e0d-a97f-4aa1-cd12-cadd46b06776"
      },
      "execution_count": 45,
      "outputs": [
        {
          "output_type": "execute_result",
          "data": {
            "text/plain": [
              "tensor([[[ 0.1166,  0.2751, -0.9565,  ...,  2.0123, -0.9943, -1.3574],\n",
              "         [ 0.1166,  0.2751, -0.9565,  ...,  2.0123, -0.9943, -1.3574],\n",
              "         [ 0.1166,  0.2751, -0.9565,  ...,  2.0123, -0.9943, -1.3574],\n",
              "         ...,\n",
              "         [ 0.1166,  0.2751, -0.9565,  ...,  2.0123, -0.9943, -1.3574],\n",
              "         [ 0.1166,  0.2751, -0.9565,  ...,  2.0123, -0.9943, -1.3574],\n",
              "         [ 0.3742, -0.6388, -2.2610,  ...,  0.8167,  0.9625,  0.1254]]],\n",
              "       grad_fn=<EmbeddingBackward0>)"
            ]
          },
          "metadata": {},
          "execution_count": 45
        }
      ]
    },
    {
      "cell_type": "code",
      "source": [
        "y(b)"
      ],
      "metadata": {
        "colab": {
          "base_uri": "https://localhost:8080/"
        },
        "id": "es8hQ5OB7P05",
        "outputId": "ba42eb13-b301-48c8-8109-d3098899e725"
      },
      "execution_count": 46,
      "outputs": [
        {
          "output_type": "execute_result",
          "data": {
            "text/plain": [
              "(tensor([[[-0.0612,  0.0203,  0.1396,  ..., -0.2655, -0.0995, -0.2787],\n",
              "          [-0.0906,  0.0331,  0.2280,  ..., -0.3829, -0.1688, -0.4313],\n",
              "          [-0.1075,  0.0406,  0.2774,  ..., -0.4326, -0.2155, -0.5106],\n",
              "          ...,\n",
              "          [-0.1337,  0.0519,  0.3428,  ..., -0.4736, -0.3003, -0.6225],\n",
              "          [-0.1337,  0.0519,  0.3428,  ..., -0.4736, -0.3003, -0.6225],\n",
              "          [-0.2084,  0.4144,  0.1538,  ...,  0.0061, -0.1870, -0.2624]]],\n",
              "        grad_fn=<TransposeBackward0>),\n",
              " (tensor([[[-2.0837e-01,  4.1436e-01,  1.5380e-01, -1.2866e-01, -6.0036e-02,\n",
              "            -6.1080e-02, -2.9400e-01,  5.9894e-02, -1.8515e-01,  4.0111e-02,\n",
              "            -9.2708e-02, -2.2491e-01, -2.0070e-01,  1.1306e-01,  2.1807e-01,\n",
              "             2.6294e-01, -1.7316e-01, -1.1635e-02,  2.5389e-01, -2.7336e-01,\n",
              "             1.9428e-02, -1.1741e-01, -4.1313e-02, -4.0607e-02,  5.9523e-02,\n",
              "             1.5782e-01,  7.7364e-02,  1.8334e-01,  8.5470e-02,  4.2104e-02,\n",
              "            -4.1820e-01,  3.7694e-02, -1.1823e-02, -2.3680e-01,  8.1575e-02,\n",
              "             1.8425e-01, -3.2293e-01,  9.7242e-03, -1.1962e-01, -2.4607e-01,\n",
              "             2.2058e-01,  7.7753e-03, -1.0031e-01, -5.9444e-02,  1.2223e-01,\n",
              "             1.2224e-01, -2.1791e-01,  2.2476e-01,  4.6673e-02, -1.0843e-02,\n",
              "             7.3925e-02, -1.4269e-01, -1.0932e-01, -1.6247e-01, -9.8513e-02,\n",
              "             1.1469e-01, -3.2541e-03, -2.5875e-01,  1.6449e-02,  1.6985e-01,\n",
              "             4.6547e-01, -1.0720e-01, -1.5031e-01, -6.8294e-02, -1.8608e-01,\n",
              "            -6.0635e-02, -1.1121e-01,  1.9624e-01,  1.6644e-02, -9.0569e-02,\n",
              "            -8.8688e-02,  9.6663e-02, -1.2358e-01, -1.3719e-01,  4.6617e-02,\n",
              "            -2.0833e-01, -2.5997e-02,  3.0943e-02,  2.0149e-01, -7.5324e-02,\n",
              "             3.5633e-02,  4.6506e-02,  2.7733e-01,  1.3429e-01,  1.5594e-01,\n",
              "             1.1390e-01, -1.9132e-01,  7.0577e-02, -6.2025e-02, -1.6597e-01,\n",
              "             1.0092e-01,  1.5770e-01,  1.7353e-01, -6.8233e-02,  1.5450e-01,\n",
              "             1.5682e-01,  1.7408e-02,  7.1124e-02, -2.2151e-01,  4.6412e-02,\n",
              "            -1.8497e-01,  5.1729e-02,  1.8735e-01,  2.1194e-01,  9.6079e-02,\n",
              "            -3.6940e-02, -5.2590e-02, -2.7468e-01, -3.3488e-01,  7.1044e-02,\n",
              "             9.0391e-04, -2.7001e-01, -1.6378e-01,  2.4652e-01, -3.9169e-02,\n",
              "            -1.0335e-05, -1.9143e-01,  1.1771e-02, -1.7772e-01, -1.0643e-01,\n",
              "            -5.8000e-02,  7.2281e-02,  3.7845e-01, -1.6625e-01, -2.2998e-02,\n",
              "            -1.0672e-01, -3.4473e-02, -2.0067e-02,  1.4699e-01,  2.5127e-01,\n",
              "             1.3066e-02,  3.9819e-02,  1.0205e-01,  1.1095e-02, -1.8040e-01,\n",
              "            -5.4919e-02,  4.4018e-01, -1.0290e-01,  1.3885e-01,  4.3953e-02,\n",
              "            -2.2808e-01,  8.5426e-02,  1.2620e-01, -7.8815e-02,  2.2751e-01,\n",
              "            -7.0683e-02,  5.3140e-02,  6.0638e-03, -1.8697e-01, -2.6244e-01]]],\n",
              "         grad_fn=<StackBackward0>),\n",
              "  tensor([[[-3.7718e-01,  6.1513e-01,  3.9355e-01, -2.1231e-01, -1.1749e-01,\n",
              "            -1.3961e-01, -4.9010e-01,  1.0672e-01, -3.5241e-01,  6.1341e-02,\n",
              "            -1.5213e-01, -5.7542e-01, -8.7767e-01,  2.0276e-01,  7.1226e-01,\n",
              "             6.4367e-01, -4.5507e-01, -2.2729e-02,  3.7420e-01, -3.8745e-01,\n",
              "             2.8571e-02, -2.2895e-01, -6.8920e-02, -6.8487e-02,  1.6135e-01,\n",
              "             2.7851e-01,  2.1123e-01,  4.7357e-01,  2.4460e-01,  8.3160e-02,\n",
              "            -6.3492e-01,  6.6865e-02, -2.1173e-02, -4.6856e-01,  1.2056e-01,\n",
              "             4.0653e-01, -5.5905e-01,  3.4911e-02, -2.3256e-01, -3.8853e-01,\n",
              "             5.0865e-01,  1.5558e-02, -2.9271e-01, -1.6564e-01,  1.9217e-01,\n",
              "             3.0103e-01, -4.7596e-01,  4.2653e-01,  6.7245e-02, -5.2131e-02,\n",
              "             1.3939e-01, -4.1141e-01, -2.3823e-01, -3.7501e-01, -1.4632e-01,\n",
              "             3.7258e-01, -6.6098e-03, -5.0284e-01,  2.8784e-02,  4.9708e-01,\n",
              "             6.7735e-01, -1.8930e-01, -2.6947e-01, -1.3333e-01, -2.4829e-01,\n",
              "            -1.4244e-01, -1.8657e-01,  3.4845e-01,  3.1547e-02, -1.4816e-01,\n",
              "            -1.4997e-01,  1.8413e-01, -1.8319e-01, -2.3303e-01,  9.1416e-02,\n",
              "            -8.8505e-01, -6.9022e-02,  8.1714e-02,  4.3851e-01, -1.4465e-01,\n",
              "             9.1188e-02,  1.0297e-01,  5.8457e-01,  2.3771e-01,  4.1521e-01,\n",
              "             3.3821e-01, -3.0231e-01,  1.3548e-01, -1.2133e-01, -3.3655e-01,\n",
              "             1.8476e-01,  3.8957e-01,  4.6900e-01, -1.5783e-01,  2.4076e-01,\n",
              "             2.8442e-01,  3.8158e-02,  1.4715e-01, -5.3679e-01,  7.8893e-02,\n",
              "            -6.2337e-01,  8.3916e-02,  3.4632e-01,  3.3207e-01,  2.7187e-01,\n",
              "            -1.1719e-01, -8.4860e-02, -4.6964e-01, -7.2545e-01,  1.4796e-01,\n",
              "             1.9047e-03, -6.7734e-01, -2.9489e-01,  3.7173e-01, -1.5774e-01,\n",
              "            -3.2215e-05, -2.7233e-01,  1.6704e-02, -5.6897e-01, -2.3849e-01,\n",
              "            -2.0886e-01,  1.2427e-01,  6.7435e-01, -2.9012e-01, -7.6661e-02,\n",
              "            -1.6553e-01, -7.2484e-02, -2.8136e-02,  3.2401e-01,  4.2145e-01,\n",
              "             6.2064e-02,  1.2730e-01,  3.0336e-01,  1.6677e-02, -2.8001e-01,\n",
              "            -7.5593e-02,  9.5273e-01, -3.1353e-01,  2.0193e-01,  9.0897e-02,\n",
              "            -3.1365e-01,  1.9591e-01,  2.7750e-01, -2.5799e-01,  4.4460e-01,\n",
              "            -2.4457e-01,  1.0631e-01,  1.0007e-02, -3.0505e-01, -3.7728e-01]]],\n",
              "         grad_fn=<StackBackward0>)))"
            ]
          },
          "metadata": {},
          "execution_count": 46
        }
      ]
    },
    {
      "cell_type": "code",
      "source": [
        "len(y(b))"
      ],
      "metadata": {
        "colab": {
          "base_uri": "https://localhost:8080/"
        },
        "id": "qJw2T9XV7oFp",
        "outputId": "d760d4c5-4ccc-436b-ab09-3202546ca904"
      },
      "execution_count": 47,
      "outputs": [
        {
          "output_type": "execute_result",
          "data": {
            "text/plain": [
              "2"
            ]
          },
          "metadata": {},
          "execution_count": 47
        }
      ]
    },
    {
      "cell_type": "code",
      "source": [
        "c, h = y(b)"
      ],
      "metadata": {
        "id": "Jj_lMcj97sJQ"
      },
      "execution_count": 48,
      "outputs": []
    },
    {
      "cell_type": "code",
      "source": [
        "c"
      ],
      "metadata": {
        "colab": {
          "base_uri": "https://localhost:8080/"
        },
        "id": "Iq9WQuAa8Lre",
        "outputId": "343f7404-b6c2-4031-ce25-90e43daf3a61"
      },
      "execution_count": 49,
      "outputs": [
        {
          "output_type": "execute_result",
          "data": {
            "text/plain": [
              "tensor([[[-0.0612,  0.0203,  0.1396,  ..., -0.2655, -0.0995, -0.2787],\n",
              "         [-0.0906,  0.0331,  0.2280,  ..., -0.3829, -0.1688, -0.4313],\n",
              "         [-0.1075,  0.0406,  0.2774,  ..., -0.4326, -0.2155, -0.5106],\n",
              "         ...,\n",
              "         [-0.1337,  0.0519,  0.3428,  ..., -0.4736, -0.3003, -0.6225],\n",
              "         [-0.1337,  0.0519,  0.3428,  ..., -0.4736, -0.3003, -0.6225],\n",
              "         [-0.2084,  0.4144,  0.1538,  ...,  0.0061, -0.1870, -0.2624]]],\n",
              "       grad_fn=<TransposeBackward0>)"
            ]
          },
          "metadata": {},
          "execution_count": 49
        }
      ]
    },
    {
      "cell_type": "code",
      "source": [
        "c.shape"
      ],
      "metadata": {
        "colab": {
          "base_uri": "https://localhost:8080/"
        },
        "id": "bel8eZX67xta",
        "outputId": "be713565-d65f-4d68-80cf-543fa1a72fdf"
      },
      "execution_count": 50,
      "outputs": [
        {
          "output_type": "execute_result",
          "data": {
            "text/plain": [
              "torch.Size([1, 34, 150])"
            ]
          },
          "metadata": {},
          "execution_count": 50
        }
      ]
    },
    {
      "cell_type": "markdown",
      "source": [
        "This is all Intermediate Hidden Space.\n",
        "1 sequence with 34 words, 150 dimension.\n",
        "150 Because we have 150 nodes.\n",
        "\n",
        "**c is a set of all intermediate states**"
      ],
      "metadata": {
        "id": "Kz8j9th68M3g"
      }
    },
    {
      "cell_type": "code",
      "source": [
        "h"
      ],
      "metadata": {
        "colab": {
          "base_uri": "https://localhost:8080/"
        },
        "id": "6obiYwot8j8h",
        "outputId": "28a26dcd-da4b-49b0-b947-6587bf56e3f5"
      },
      "execution_count": 51,
      "outputs": [
        {
          "output_type": "execute_result",
          "data": {
            "text/plain": [
              "(tensor([[[-2.0837e-01,  4.1436e-01,  1.5380e-01, -1.2866e-01, -6.0036e-02,\n",
              "           -6.1080e-02, -2.9400e-01,  5.9894e-02, -1.8515e-01,  4.0111e-02,\n",
              "           -9.2708e-02, -2.2491e-01, -2.0070e-01,  1.1306e-01,  2.1807e-01,\n",
              "            2.6294e-01, -1.7316e-01, -1.1635e-02,  2.5389e-01, -2.7336e-01,\n",
              "            1.9428e-02, -1.1741e-01, -4.1313e-02, -4.0607e-02,  5.9523e-02,\n",
              "            1.5782e-01,  7.7364e-02,  1.8334e-01,  8.5470e-02,  4.2104e-02,\n",
              "           -4.1820e-01,  3.7694e-02, -1.1823e-02, -2.3680e-01,  8.1575e-02,\n",
              "            1.8425e-01, -3.2293e-01,  9.7242e-03, -1.1962e-01, -2.4607e-01,\n",
              "            2.2058e-01,  7.7753e-03, -1.0031e-01, -5.9444e-02,  1.2223e-01,\n",
              "            1.2224e-01, -2.1791e-01,  2.2476e-01,  4.6673e-02, -1.0843e-02,\n",
              "            7.3925e-02, -1.4269e-01, -1.0932e-01, -1.6247e-01, -9.8513e-02,\n",
              "            1.1469e-01, -3.2541e-03, -2.5875e-01,  1.6449e-02,  1.6985e-01,\n",
              "            4.6547e-01, -1.0720e-01, -1.5031e-01, -6.8294e-02, -1.8608e-01,\n",
              "           -6.0635e-02, -1.1121e-01,  1.9624e-01,  1.6644e-02, -9.0569e-02,\n",
              "           -8.8688e-02,  9.6663e-02, -1.2358e-01, -1.3719e-01,  4.6617e-02,\n",
              "           -2.0833e-01, -2.5997e-02,  3.0943e-02,  2.0149e-01, -7.5324e-02,\n",
              "            3.5633e-02,  4.6506e-02,  2.7733e-01,  1.3429e-01,  1.5594e-01,\n",
              "            1.1390e-01, -1.9132e-01,  7.0577e-02, -6.2025e-02, -1.6597e-01,\n",
              "            1.0092e-01,  1.5770e-01,  1.7353e-01, -6.8233e-02,  1.5450e-01,\n",
              "            1.5682e-01,  1.7408e-02,  7.1124e-02, -2.2151e-01,  4.6412e-02,\n",
              "           -1.8497e-01,  5.1729e-02,  1.8735e-01,  2.1194e-01,  9.6079e-02,\n",
              "           -3.6940e-02, -5.2590e-02, -2.7468e-01, -3.3488e-01,  7.1044e-02,\n",
              "            9.0391e-04, -2.7001e-01, -1.6378e-01,  2.4652e-01, -3.9169e-02,\n",
              "           -1.0335e-05, -1.9143e-01,  1.1771e-02, -1.7772e-01, -1.0643e-01,\n",
              "           -5.8000e-02,  7.2281e-02,  3.7845e-01, -1.6625e-01, -2.2998e-02,\n",
              "           -1.0672e-01, -3.4473e-02, -2.0067e-02,  1.4699e-01,  2.5127e-01,\n",
              "            1.3066e-02,  3.9819e-02,  1.0205e-01,  1.1095e-02, -1.8040e-01,\n",
              "           -5.4919e-02,  4.4018e-01, -1.0290e-01,  1.3885e-01,  4.3953e-02,\n",
              "           -2.2808e-01,  8.5426e-02,  1.2620e-01, -7.8815e-02,  2.2751e-01,\n",
              "           -7.0683e-02,  5.3140e-02,  6.0638e-03, -1.8697e-01, -2.6244e-01]]],\n",
              "        grad_fn=<StackBackward0>),\n",
              " tensor([[[-3.7718e-01,  6.1513e-01,  3.9355e-01, -2.1231e-01, -1.1749e-01,\n",
              "           -1.3961e-01, -4.9010e-01,  1.0672e-01, -3.5241e-01,  6.1341e-02,\n",
              "           -1.5213e-01, -5.7542e-01, -8.7767e-01,  2.0276e-01,  7.1226e-01,\n",
              "            6.4367e-01, -4.5507e-01, -2.2729e-02,  3.7420e-01, -3.8745e-01,\n",
              "            2.8571e-02, -2.2895e-01, -6.8920e-02, -6.8487e-02,  1.6135e-01,\n",
              "            2.7851e-01,  2.1123e-01,  4.7357e-01,  2.4460e-01,  8.3160e-02,\n",
              "           -6.3492e-01,  6.6865e-02, -2.1173e-02, -4.6856e-01,  1.2056e-01,\n",
              "            4.0653e-01, -5.5905e-01,  3.4911e-02, -2.3256e-01, -3.8853e-01,\n",
              "            5.0865e-01,  1.5558e-02, -2.9271e-01, -1.6564e-01,  1.9217e-01,\n",
              "            3.0103e-01, -4.7596e-01,  4.2653e-01,  6.7245e-02, -5.2131e-02,\n",
              "            1.3939e-01, -4.1141e-01, -2.3823e-01, -3.7501e-01, -1.4632e-01,\n",
              "            3.7258e-01, -6.6098e-03, -5.0284e-01,  2.8784e-02,  4.9708e-01,\n",
              "            6.7735e-01, -1.8930e-01, -2.6947e-01, -1.3333e-01, -2.4829e-01,\n",
              "           -1.4244e-01, -1.8657e-01,  3.4845e-01,  3.1547e-02, -1.4816e-01,\n",
              "           -1.4997e-01,  1.8413e-01, -1.8319e-01, -2.3303e-01,  9.1416e-02,\n",
              "           -8.8505e-01, -6.9022e-02,  8.1714e-02,  4.3851e-01, -1.4465e-01,\n",
              "            9.1188e-02,  1.0297e-01,  5.8457e-01,  2.3771e-01,  4.1521e-01,\n",
              "            3.3821e-01, -3.0231e-01,  1.3548e-01, -1.2133e-01, -3.3655e-01,\n",
              "            1.8476e-01,  3.8957e-01,  4.6900e-01, -1.5783e-01,  2.4076e-01,\n",
              "            2.8442e-01,  3.8158e-02,  1.4715e-01, -5.3679e-01,  7.8893e-02,\n",
              "           -6.2337e-01,  8.3916e-02,  3.4632e-01,  3.3207e-01,  2.7187e-01,\n",
              "           -1.1719e-01, -8.4860e-02, -4.6964e-01, -7.2545e-01,  1.4796e-01,\n",
              "            1.9047e-03, -6.7734e-01, -2.9489e-01,  3.7173e-01, -1.5774e-01,\n",
              "           -3.2215e-05, -2.7233e-01,  1.6704e-02, -5.6897e-01, -2.3849e-01,\n",
              "           -2.0886e-01,  1.2427e-01,  6.7435e-01, -2.9012e-01, -7.6661e-02,\n",
              "           -1.6553e-01, -7.2484e-02, -2.8136e-02,  3.2401e-01,  4.2145e-01,\n",
              "            6.2064e-02,  1.2730e-01,  3.0336e-01,  1.6677e-02, -2.8001e-01,\n",
              "           -7.5593e-02,  9.5273e-01, -3.1353e-01,  2.0193e-01,  9.0897e-02,\n",
              "           -3.1365e-01,  1.9591e-01,  2.7750e-01, -2.5799e-01,  4.4460e-01,\n",
              "           -2.4457e-01,  1.0631e-01,  1.0007e-02, -3.0505e-01, -3.7728e-01]]],\n",
              "        grad_fn=<StackBackward0>))"
            ]
          },
          "metadata": {},
          "execution_count": 51
        }
      ]
    },
    {
      "cell_type": "code",
      "source": [
        "len(h)"
      ],
      "metadata": {
        "colab": {
          "base_uri": "https://localhost:8080/"
        },
        "id": "ziFUILx47yZ5",
        "outputId": "08441de8-c1ea-4030-8fa4-1a9a18180751"
      },
      "execution_count": 52,
      "outputs": [
        {
          "output_type": "execute_result",
          "data": {
            "text/plain": [
              "2"
            ]
          },
          "metadata": {},
          "execution_count": 52
        }
      ]
    },
    {
      "cell_type": "markdown",
      "source": [
        "h itself have 2 tuples so unpack"
      ],
      "metadata": {
        "id": "ocz71pRk8lnV"
      }
    },
    {
      "cell_type": "code",
      "source": [
        "e, f = h"
      ],
      "metadata": {
        "id": "CuGccgAE71fC"
      },
      "execution_count": 53,
      "outputs": []
    },
    {
      "cell_type": "code",
      "source": [
        "e"
      ],
      "metadata": {
        "colab": {
          "base_uri": "https://localhost:8080/"
        },
        "id": "t7jOq0h_8rHS",
        "outputId": "a422bf97-6bc4-4682-d32c-f7ab6340975b"
      },
      "execution_count": 54,
      "outputs": [
        {
          "output_type": "execute_result",
          "data": {
            "text/plain": [
              "tensor([[[-2.0837e-01,  4.1436e-01,  1.5380e-01, -1.2866e-01, -6.0036e-02,\n",
              "          -6.1080e-02, -2.9400e-01,  5.9894e-02, -1.8515e-01,  4.0111e-02,\n",
              "          -9.2708e-02, -2.2491e-01, -2.0070e-01,  1.1306e-01,  2.1807e-01,\n",
              "           2.6294e-01, -1.7316e-01, -1.1635e-02,  2.5389e-01, -2.7336e-01,\n",
              "           1.9428e-02, -1.1741e-01, -4.1313e-02, -4.0607e-02,  5.9523e-02,\n",
              "           1.5782e-01,  7.7364e-02,  1.8334e-01,  8.5470e-02,  4.2104e-02,\n",
              "          -4.1820e-01,  3.7694e-02, -1.1823e-02, -2.3680e-01,  8.1575e-02,\n",
              "           1.8425e-01, -3.2293e-01,  9.7242e-03, -1.1962e-01, -2.4607e-01,\n",
              "           2.2058e-01,  7.7753e-03, -1.0031e-01, -5.9444e-02,  1.2223e-01,\n",
              "           1.2224e-01, -2.1791e-01,  2.2476e-01,  4.6673e-02, -1.0843e-02,\n",
              "           7.3925e-02, -1.4269e-01, -1.0932e-01, -1.6247e-01, -9.8513e-02,\n",
              "           1.1469e-01, -3.2541e-03, -2.5875e-01,  1.6449e-02,  1.6985e-01,\n",
              "           4.6547e-01, -1.0720e-01, -1.5031e-01, -6.8294e-02, -1.8608e-01,\n",
              "          -6.0635e-02, -1.1121e-01,  1.9624e-01,  1.6644e-02, -9.0569e-02,\n",
              "          -8.8688e-02,  9.6663e-02, -1.2358e-01, -1.3719e-01,  4.6617e-02,\n",
              "          -2.0833e-01, -2.5997e-02,  3.0943e-02,  2.0149e-01, -7.5324e-02,\n",
              "           3.5633e-02,  4.6506e-02,  2.7733e-01,  1.3429e-01,  1.5594e-01,\n",
              "           1.1390e-01, -1.9132e-01,  7.0577e-02, -6.2025e-02, -1.6597e-01,\n",
              "           1.0092e-01,  1.5770e-01,  1.7353e-01, -6.8233e-02,  1.5450e-01,\n",
              "           1.5682e-01,  1.7408e-02,  7.1124e-02, -2.2151e-01,  4.6412e-02,\n",
              "          -1.8497e-01,  5.1729e-02,  1.8735e-01,  2.1194e-01,  9.6079e-02,\n",
              "          -3.6940e-02, -5.2590e-02, -2.7468e-01, -3.3488e-01,  7.1044e-02,\n",
              "           9.0391e-04, -2.7001e-01, -1.6378e-01,  2.4652e-01, -3.9169e-02,\n",
              "          -1.0335e-05, -1.9143e-01,  1.1771e-02, -1.7772e-01, -1.0643e-01,\n",
              "          -5.8000e-02,  7.2281e-02,  3.7845e-01, -1.6625e-01, -2.2998e-02,\n",
              "          -1.0672e-01, -3.4473e-02, -2.0067e-02,  1.4699e-01,  2.5127e-01,\n",
              "           1.3066e-02,  3.9819e-02,  1.0205e-01,  1.1095e-02, -1.8040e-01,\n",
              "          -5.4919e-02,  4.4018e-01, -1.0290e-01,  1.3885e-01,  4.3953e-02,\n",
              "          -2.2808e-01,  8.5426e-02,  1.2620e-01, -7.8815e-02,  2.2751e-01,\n",
              "          -7.0683e-02,  5.3140e-02,  6.0638e-03, -1.8697e-01, -2.6244e-01]]],\n",
              "       grad_fn=<StackBackward0>)"
            ]
          },
          "metadata": {},
          "execution_count": 54
        }
      ]
    },
    {
      "cell_type": "code",
      "source": [
        "f"
      ],
      "metadata": {
        "colab": {
          "base_uri": "https://localhost:8080/"
        },
        "id": "zxLsJkrS8r1Z",
        "outputId": "1e52ade4-0be4-4567-c455-54ec9884d908"
      },
      "execution_count": 55,
      "outputs": [
        {
          "output_type": "execute_result",
          "data": {
            "text/plain": [
              "tensor([[[-3.7718e-01,  6.1513e-01,  3.9355e-01, -2.1231e-01, -1.1749e-01,\n",
              "          -1.3961e-01, -4.9010e-01,  1.0672e-01, -3.5241e-01,  6.1341e-02,\n",
              "          -1.5213e-01, -5.7542e-01, -8.7767e-01,  2.0276e-01,  7.1226e-01,\n",
              "           6.4367e-01, -4.5507e-01, -2.2729e-02,  3.7420e-01, -3.8745e-01,\n",
              "           2.8571e-02, -2.2895e-01, -6.8920e-02, -6.8487e-02,  1.6135e-01,\n",
              "           2.7851e-01,  2.1123e-01,  4.7357e-01,  2.4460e-01,  8.3160e-02,\n",
              "          -6.3492e-01,  6.6865e-02, -2.1173e-02, -4.6856e-01,  1.2056e-01,\n",
              "           4.0653e-01, -5.5905e-01,  3.4911e-02, -2.3256e-01, -3.8853e-01,\n",
              "           5.0865e-01,  1.5558e-02, -2.9271e-01, -1.6564e-01,  1.9217e-01,\n",
              "           3.0103e-01, -4.7596e-01,  4.2653e-01,  6.7245e-02, -5.2131e-02,\n",
              "           1.3939e-01, -4.1141e-01, -2.3823e-01, -3.7501e-01, -1.4632e-01,\n",
              "           3.7258e-01, -6.6098e-03, -5.0284e-01,  2.8784e-02,  4.9708e-01,\n",
              "           6.7735e-01, -1.8930e-01, -2.6947e-01, -1.3333e-01, -2.4829e-01,\n",
              "          -1.4244e-01, -1.8657e-01,  3.4845e-01,  3.1547e-02, -1.4816e-01,\n",
              "          -1.4997e-01,  1.8413e-01, -1.8319e-01, -2.3303e-01,  9.1416e-02,\n",
              "          -8.8505e-01, -6.9022e-02,  8.1714e-02,  4.3851e-01, -1.4465e-01,\n",
              "           9.1188e-02,  1.0297e-01,  5.8457e-01,  2.3771e-01,  4.1521e-01,\n",
              "           3.3821e-01, -3.0231e-01,  1.3548e-01, -1.2133e-01, -3.3655e-01,\n",
              "           1.8476e-01,  3.8957e-01,  4.6900e-01, -1.5783e-01,  2.4076e-01,\n",
              "           2.8442e-01,  3.8158e-02,  1.4715e-01, -5.3679e-01,  7.8893e-02,\n",
              "          -6.2337e-01,  8.3916e-02,  3.4632e-01,  3.3207e-01,  2.7187e-01,\n",
              "          -1.1719e-01, -8.4860e-02, -4.6964e-01, -7.2545e-01,  1.4796e-01,\n",
              "           1.9047e-03, -6.7734e-01, -2.9489e-01,  3.7173e-01, -1.5774e-01,\n",
              "          -3.2215e-05, -2.7233e-01,  1.6704e-02, -5.6897e-01, -2.3849e-01,\n",
              "          -2.0886e-01,  1.2427e-01,  6.7435e-01, -2.9012e-01, -7.6661e-02,\n",
              "          -1.6553e-01, -7.2484e-02, -2.8136e-02,  3.2401e-01,  4.2145e-01,\n",
              "           6.2064e-02,  1.2730e-01,  3.0336e-01,  1.6677e-02, -2.8001e-01,\n",
              "          -7.5593e-02,  9.5273e-01, -3.1353e-01,  2.0193e-01,  9.0897e-02,\n",
              "          -3.1365e-01,  1.9591e-01,  2.7750e-01, -2.5799e-01,  4.4460e-01,\n",
              "          -2.4457e-01,  1.0631e-01,  1.0007e-02, -3.0505e-01, -3.7728e-01]]],\n",
              "       grad_fn=<StackBackward0>)"
            ]
          },
          "metadata": {},
          "execution_count": 55
        }
      ]
    },
    {
      "cell_type": "code",
      "source": [
        "e.shape"
      ],
      "metadata": {
        "colab": {
          "base_uri": "https://localhost:8080/"
        },
        "id": "axaHlkFA8scI",
        "outputId": "46a96c77-5ab2-44a5-c4b0-4dea0107b394"
      },
      "execution_count": 56,
      "outputs": [
        {
          "output_type": "execute_result",
          "data": {
            "text/plain": [
              "torch.Size([1, 1, 150])"
            ]
          },
          "metadata": {},
          "execution_count": 56
        }
      ]
    },
    {
      "cell_type": "markdown",
      "source": [
        "E is the final output which we will send to Flatten Layer, But not in a Batch so squeeze it"
      ],
      "metadata": {
        "id": "J72LeSLx9eW7"
      }
    },
    {
      "cell_type": "code",
      "source": [
        "f.shape"
      ],
      "metadata": {
        "colab": {
          "base_uri": "https://localhost:8080/"
        },
        "id": "YIiVoAd88tMp",
        "outputId": "bca540b7-be48-4147-e4fc-d2db92727b38"
      },
      "execution_count": 57,
      "outputs": [
        {
          "output_type": "execute_result",
          "data": {
            "text/plain": [
              "torch.Size([1, 1, 150])"
            ]
          },
          "metadata": {},
          "execution_count": 57
        }
      ]
    },
    {
      "cell_type": "markdown",
      "source": [
        "F is a cell state, at time stamp 1 hence 1 (1=batch_size, 1=time step, 150 our neuron output)"
      ],
      "metadata": {
        "id": "gGSSjlx983hX"
      }
    },
    {
      "cell_type": "code",
      "source": [
        "z(e.squeeze(0))"
      ],
      "metadata": {
        "colab": {
          "base_uri": "https://localhost:8080/"
        },
        "id": "mKqBmjUK8t4i",
        "outputId": "0b0855de-1861-456d-c249-401be547a81b"
      },
      "execution_count": 58,
      "outputs": [
        {
          "output_type": "execute_result",
          "data": {
            "text/plain": [
              "tensor([[ 1.9891e-01, -1.4216e-01,  4.9756e-02,  1.8594e-04,  1.7676e-02,\n",
              "         -2.4257e-02, -8.7654e-02, -2.6494e-03, -1.2346e-03,  8.6702e-02,\n",
              "         -9.4115e-02,  1.9788e-02,  1.0124e-01, -1.3672e-01, -2.8504e-02,\n",
              "          1.4750e-01,  1.0202e-01,  9.4486e-02,  1.4328e-01,  1.0458e-02,\n",
              "          7.9681e-02, -1.1169e-01, -1.5806e-02, -1.7677e-02, -7.8107e-02,\n",
              "         -1.7652e-02, -3.1422e-02, -6.9899e-02, -6.7556e-03,  1.7555e-01,\n",
              "         -1.0478e-01, -6.4503e-02,  3.5193e-02, -5.1959e-02,  1.8866e-01,\n",
              "          2.4009e-01,  5.0389e-02,  5.1959e-02, -9.1376e-03,  1.0985e-01,\n",
              "          2.5063e-02,  6.1123e-02,  6.6639e-02, -1.2716e-02,  4.0982e-02,\n",
              "          5.0792e-02,  2.3683e-01, -1.3277e-01,  3.1233e-02, -1.1181e-01,\n",
              "          1.6531e-01, -1.8053e-02, -3.7431e-02,  1.6702e-01,  2.1081e-01,\n",
              "         -1.5588e-01, -2.6692e-02,  1.3472e-01,  7.2361e-02,  5.3359e-02,\n",
              "          2.7512e-02,  1.5899e-02, -2.1782e-01, -1.7451e-01,  1.4389e-01,\n",
              "          9.1813e-02, -9.0090e-02, -4.8339e-02, -9.4430e-02,  5.9665e-02,\n",
              "          2.0751e-01,  1.0066e-01, -1.7532e-02, -3.9768e-02,  8.0387e-02,\n",
              "         -3.5445e-03, -1.6366e-01,  1.2446e-01,  2.5900e-02,  1.0349e-01,\n",
              "          1.5334e-01, -6.0620e-02, -8.9902e-02, -4.6466e-02,  4.6803e-02,\n",
              "          1.4187e-01, -9.0421e-02, -4.6345e-02,  1.4359e-01,  1.1082e-01,\n",
              "          2.6971e-02, -1.6763e-01, -1.4955e-01, -1.3992e-01,  1.2758e-01,\n",
              "         -1.9384e-01, -1.4977e-01, -1.2520e-02,  1.9381e-01, -1.4372e-01,\n",
              "         -1.5087e-01,  1.4142e-01, -2.1555e-02, -1.3211e-01,  2.8059e-02,\n",
              "          3.1804e-02, -1.1390e-01,  1.1662e-01,  2.0392e-02,  2.5629e-01,\n",
              "         -4.7706e-02, -1.3612e-01, -1.6073e-01, -1.4513e-01,  1.1162e-02,\n",
              "         -6.7635e-02,  1.7799e-01,  2.4960e-02, -5.0582e-02,  1.1140e-01,\n",
              "         -8.1971e-02,  7.6907e-02,  1.4641e-01, -7.4152e-02, -8.5846e-02,\n",
              "          9.9837e-02, -1.4803e-01, -5.4525e-02,  9.1392e-02, -4.5335e-02,\n",
              "         -1.1712e-01, -7.1851e-02, -3.6117e-02, -1.1666e-02, -1.4638e-01,\n",
              "         -4.6374e-02, -1.4939e-02,  1.5823e-01,  1.2430e-01, -5.3826e-02,\n",
              "          7.3163e-02, -1.9896e-01,  1.3024e-01, -7.0682e-02, -1.8059e-01,\n",
              "         -1.8705e-01, -1.1489e-01, -3.7099e-02, -3.8633e-02, -9.5753e-02,\n",
              "         -6.2683e-02,  1.3367e-02, -6.4128e-02, -7.1866e-02, -1.5793e-02,\n",
              "          2.0468e-01,  2.4754e-01,  1.2380e-02, -5.6584e-02,  1.2201e-01,\n",
              "         -6.7398e-02,  7.9290e-02,  1.1378e-01, -3.1738e-01,  6.4523e-03,\n",
              "          7.1859e-02, -4.2385e-02,  7.8687e-02,  8.0162e-02, -1.1297e-01,\n",
              "         -2.4596e-03,  2.3684e-01, -4.7174e-02, -7.3296e-02,  3.0328e-02,\n",
              "          1.2781e-01, -4.5731e-02, -3.2992e-02,  1.9419e-01, -8.4693e-02,\n",
              "         -1.0648e-01, -6.6074e-02, -9.2422e-02, -1.5986e-02,  1.2672e-01,\n",
              "          2.2052e-01, -4.1647e-02,  3.1949e-02, -6.6743e-02, -6.1627e-02,\n",
              "         -4.9370e-02, -2.1457e-02, -4.7635e-02,  9.0199e-02, -9.4260e-02,\n",
              "          8.7710e-02,  3.3055e-02,  1.5020e-01, -9.9992e-02,  1.7881e-02,\n",
              "          1.6700e-01,  7.0413e-02,  5.1851e-03,  1.3774e-01, -5.5120e-02,\n",
              "         -2.0432e-02, -1.2877e-02,  6.0189e-02, -2.0452e-02, -1.9804e-01,\n",
              "         -7.3121e-02,  3.2970e-02,  4.9931e-02,  7.4384e-02,  1.4714e-02,\n",
              "         -6.4786e-02, -3.7301e-02,  7.0651e-02, -9.5806e-02, -6.5719e-02,\n",
              "          4.5981e-02,  1.8553e-01,  2.4833e-02, -2.1158e-01,  7.7981e-02,\n",
              "         -1.2044e-01, -8.7665e-02,  9.0572e-02,  1.1768e-01,  6.2968e-02,\n",
              "          3.0694e-02, -1.5916e-02, -1.2573e-01, -5.6468e-02,  8.7162e-02,\n",
              "         -1.1726e-01,  1.2734e-01, -1.2123e-01, -1.1596e-01, -1.5759e-01,\n",
              "          1.3544e-01, -8.2119e-02,  1.7347e-01,  7.1478e-02,  8.4689e-02,\n",
              "          1.5725e-02, -5.0139e-02, -1.7412e-01, -7.4441e-02, -1.6777e-01,\n",
              "         -1.3734e-01,  6.4341e-02,  2.8176e-01, -3.3269e-02,  1.5756e-02,\n",
              "          1.5346e-01, -2.9023e-01,  4.1250e-02,  8.2720e-02, -1.4517e-01,\n",
              "          1.5836e-01,  1.3136e-01,  8.3055e-02, -6.7968e-02,  2.3354e-02,\n",
              "          2.0858e-01,  1.1436e-01, -8.3267e-02, -1.9876e-01,  7.6376e-03,\n",
              "          9.4924e-02,  3.7256e-02, -1.7351e-02, -2.9506e-03, -6.1810e-02,\n",
              "          9.3366e-04, -1.8469e-01,  9.5143e-02, -8.5420e-02, -1.2653e-01,\n",
              "         -8.4025e-02, -1.4356e-01,  1.2747e-01,  1.5857e-01, -6.5390e-02,\n",
              "         -1.1058e-01,  2.7857e-02, -1.4490e-02,  8.1894e-03,  4.7858e-02,\n",
              "         -1.2556e-01,  1.0932e-01,  4.4951e-02, -1.1865e-01, -1.7193e-01,\n",
              "          3.8670e-02,  1.2322e-01, -7.0827e-04, -3.4476e-02, -2.1749e-02,\n",
              "          5.7473e-02,  5.4235e-02,  1.1147e-01,  1.8936e-01, -1.0283e-01,\n",
              "          1.2197e-01, -2.1093e-01, -4.1794e-02,  1.4907e-01, -4.8573e-02,\n",
              "         -9.4689e-02,  1.3025e-01,  7.8715e-03,  1.0705e-01, -7.0492e-02,\n",
              "          3.3732e-02,  1.0384e-02, -2.6114e-02, -2.0231e-01,  2.1221e-02,\n",
              "          3.6440e-02, -2.5794e-01,  4.1345e-02, -4.1794e-02, -6.9067e-02,\n",
              "         -2.1411e-01, -1.2722e-02,  1.2025e-02,  6.4898e-02, -6.8838e-02,\n",
              "          2.2576e-02,  7.9341e-02,  7.4314e-02, -5.9709e-02, -4.3921e-02,\n",
              "         -5.7391e-02, -3.6644e-02,  6.2233e-02,  7.8046e-02, -1.4522e-01,\n",
              "          5.7587e-03, -3.7387e-02,  1.8201e-02,  1.2726e-01,  1.4157e-01,\n",
              "         -6.4391e-02,  5.9305e-02,  1.0077e-01, -6.2800e-02,  1.0392e-02,\n",
              "         -1.5185e-02,  8.4032e-02,  1.4433e-01, -7.1062e-02,  1.3423e-01,\n",
              "         -1.0206e-01,  1.9614e-01, -1.9532e-02, -1.7793e-02, -1.3486e-01,\n",
              "         -1.9038e-01,  1.4962e-01, -7.0026e-03, -1.1050e-02,  4.2814e-02,\n",
              "         -7.0544e-03, -1.5789e-01, -8.9745e-02, -1.5192e-01,  1.6210e-01,\n",
              "          5.0402e-02, -6.1621e-03, -8.2996e-02, -1.4487e-01,  9.9245e-02,\n",
              "          5.1589e-03, -1.6385e-01, -6.3562e-02,  8.8913e-03,  1.2650e-02,\n",
              "         -1.4509e-01,  4.5211e-02, -5.4783e-02,  6.0802e-02,  1.1328e-01,\n",
              "          1.2113e-01,  1.0496e-02, -8.1890e-02,  2.5128e-02, -3.6987e-01,\n",
              "         -3.2785e-01,  6.7995e-02,  1.8044e-02, -1.6323e-01, -1.9897e-01,\n",
              "          4.0079e-02,  1.8049e-01,  2.0118e-02, -7.1650e-02,  4.5076e-02,\n",
              "         -2.8195e-01,  1.9965e-02,  1.9116e-02,  1.1052e-01, -7.6094e-03,\n",
              "         -5.0998e-02, -1.2222e-01,  1.6742e-02,  5.2315e-02,  1.2597e-01,\n",
              "         -5.5687e-03,  1.5986e-02,  2.8455e-02, -8.0223e-02, -8.5152e-02,\n",
              "         -1.5320e-01,  1.6936e-01,  1.5167e-01,  5.8254e-02,  5.6696e-02,\n",
              "          6.5362e-02, -9.9872e-02, -4.8434e-02,  1.8647e-02, -1.5831e-01,\n",
              "          7.4152e-02, -7.7863e-02,  1.3591e-01,  5.6966e-02,  3.1656e-02,\n",
              "          8.0398e-02,  6.4051e-02,  6.2495e-02,  1.1615e-01, -1.9787e-02,\n",
              "          1.1984e-02,  7.4338e-02, -1.2496e-01,  1.5269e-01,  1.6147e-02,\n",
              "          2.8327e-03,  4.3014e-03, -7.4440e-02, -3.5146e-02,  1.0201e-01,\n",
              "         -1.3605e-01, -6.1788e-02,  1.0793e-01, -3.2488e-02]],\n",
              "       grad_fn=<AddmmBackward0>)"
            ]
          },
          "metadata": {},
          "execution_count": 58
        }
      ]
    },
    {
      "cell_type": "code",
      "source": [
        "z(e.squeeze(0)).shape"
      ],
      "metadata": {
        "colab": {
          "base_uri": "https://localhost:8080/"
        },
        "id": "Yx5HToQY9pww",
        "outputId": "6638a27a-a72e-4649-cdad-6e8a8ce15402"
      },
      "execution_count": 59,
      "outputs": [
        {
          "output_type": "execute_result",
          "data": {
            "text/plain": [
              "torch.Size([1, 449])"
            ]
          },
          "metadata": {},
          "execution_count": 59
        }
      ]
    },
    {
      "cell_type": "markdown",
      "source": [
        "**See Here we are getting probs(logit) for all our vocabulary and based on this logit we will apply softmax and calculate the max probability for the word which can be next sequence**"
      ],
      "metadata": {
        "id": "vzJWQ59V9zTV"
      }
    },
    {
      "cell_type": "code",
      "source": [
        "# create model\n",
        "model = MyLSTM(len(vocabs))"
      ],
      "metadata": {
        "id": "SFt-vzCg9rug"
      },
      "execution_count": 60,
      "outputs": []
    },
    {
      "cell_type": "code",
      "source": [
        "device = torch.device(\"cuda\" if torch.cuda.is_available() else \"cpu\")"
      ],
      "metadata": {
        "id": "8DXbeKDb_8DI"
      },
      "execution_count": 61,
      "outputs": []
    },
    {
      "cell_type": "code",
      "source": [
        "model.to(device)"
      ],
      "metadata": {
        "colab": {
          "base_uri": "https://localhost:8080/"
        },
        "id": "m-RCWQi_ADk5",
        "outputId": "9ac5e2bd-88fe-4001-8297-30c632e6b927"
      },
      "execution_count": 62,
      "outputs": [
        {
          "output_type": "execute_result",
          "data": {
            "text/plain": [
              "MyLSTM(\n",
              "  (embedding): Embedding(449, 100)\n",
              "  (lstm): LSTM(100, 150, batch_first=True)\n",
              "  (fc): Linear(in_features=150, out_features=449, bias=True)\n",
              ")"
            ]
          },
          "metadata": {},
          "execution_count": 62
        }
      ]
    },
    {
      "cell_type": "code",
      "source": [
        "# Params\n",
        "\n",
        "epochs = 50\n",
        "learning_rate = 0.001\n",
        "\n",
        "criteria = nn.CrossEntropyLoss()\n",
        "\n",
        "optimizer = torch.optim.Adam(model.parameters(),lr=learning_rate)"
      ],
      "metadata": {
        "id": "tQ4tu1zY_k64"
      },
      "execution_count": 63,
      "outputs": []
    },
    {
      "cell_type": "code",
      "source": [
        "# Training Loop\n",
        "\n",
        "for epoch in range(epochs):\n",
        "\n",
        "  total_loss = 0\n",
        "\n",
        "  for batch_x, batch_y in dataloader:\n",
        "\n",
        "    # move to gpu\n",
        "    batch_x = batch_x.to(device)\n",
        "    batch_y = batch_y.to(device)\n",
        "\n",
        "    # clear gradients\n",
        "    optimizer.zero_grad()\n",
        "\n",
        "    # forward pass\n",
        "    output = model.forward(batch_x)\n",
        "\n",
        "    # loss\n",
        "    loss = criteria(output, batch_y)\n",
        "\n",
        "    # backprop\n",
        "    loss.backward()\n",
        "\n",
        "    # optimizer\n",
        "    optimizer.step()\n",
        "\n",
        "    total_loss += loss\n",
        "\n",
        "  print(f\"Epoch: {epoch + 1}, Loss: {total_loss:.4f}\")\n",
        "  print('-'*30)"
      ],
      "metadata": {
        "colab": {
          "base_uri": "https://localhost:8080/"
        },
        "id": "LsaXBgGIAGkw",
        "outputId": "f5b4c776-491d-4a8a-c597-178a5c9e95c4"
      },
      "execution_count": 64,
      "outputs": [
        {
          "output_type": "stream",
          "name": "stdout",
          "text": [
            "Epoch: 1, Loss: 205.0316\n",
            "------------------------------\n",
            "Epoch: 2, Loss: 183.3295\n",
            "------------------------------\n",
            "Epoch: 3, Loss: 168.9189\n",
            "------------------------------\n",
            "Epoch: 4, Loss: 155.4973\n",
            "------------------------------\n",
            "Epoch: 5, Loss: 141.6836\n",
            "------------------------------\n",
            "Epoch: 6, Loss: 128.0467\n",
            "------------------------------\n",
            "Epoch: 7, Loss: 114.7546\n",
            "------------------------------\n",
            "Epoch: 8, Loss: 102.4936\n",
            "------------------------------\n",
            "Epoch: 9, Loss: 90.2863\n",
            "------------------------------\n",
            "Epoch: 10, Loss: 79.5062\n",
            "------------------------------\n",
            "Epoch: 11, Loss: 69.6634\n",
            "------------------------------\n",
            "Epoch: 12, Loss: 60.2936\n",
            "------------------------------\n",
            "Epoch: 13, Loss: 52.3672\n",
            "------------------------------\n",
            "Epoch: 14, Loss: 44.8927\n",
            "------------------------------\n",
            "Epoch: 15, Loss: 39.0965\n",
            "------------------------------\n",
            "Epoch: 16, Loss: 33.5919\n",
            "------------------------------\n",
            "Epoch: 17, Loss: 29.1782\n",
            "------------------------------\n",
            "Epoch: 18, Loss: 25.4613\n",
            "------------------------------\n",
            "Epoch: 19, Loss: 22.5444\n",
            "------------------------------\n",
            "Epoch: 20, Loss: 19.7965\n",
            "------------------------------\n",
            "Epoch: 21, Loss: 17.6158\n",
            "------------------------------\n",
            "Epoch: 22, Loss: 15.7792\n",
            "------------------------------\n",
            "Epoch: 23, Loss: 14.5095\n",
            "------------------------------\n",
            "Epoch: 24, Loss: 13.1527\n",
            "------------------------------\n",
            "Epoch: 25, Loss: 12.3125\n",
            "------------------------------\n",
            "Epoch: 26, Loss: 11.1875\n",
            "------------------------------\n",
            "Epoch: 27, Loss: 10.6171\n",
            "------------------------------\n",
            "Epoch: 28, Loss: 9.8806\n",
            "------------------------------\n",
            "Epoch: 29, Loss: 9.3769\n",
            "------------------------------\n",
            "Epoch: 30, Loss: 9.0315\n",
            "------------------------------\n",
            "Epoch: 31, Loss: 8.3531\n",
            "------------------------------\n",
            "Epoch: 32, Loss: 8.0780\n",
            "------------------------------\n",
            "Epoch: 33, Loss: 7.8728\n",
            "------------------------------\n",
            "Epoch: 34, Loss: 7.3954\n",
            "------------------------------\n",
            "Epoch: 35, Loss: 7.0989\n",
            "------------------------------\n",
            "Epoch: 36, Loss: 6.8756\n",
            "------------------------------\n",
            "Epoch: 37, Loss: 6.7131\n",
            "------------------------------\n",
            "Epoch: 38, Loss: 6.4323\n",
            "------------------------------\n",
            "Epoch: 39, Loss: 6.2917\n",
            "------------------------------\n",
            "Epoch: 40, Loss: 6.2535\n",
            "------------------------------\n",
            "Epoch: 41, Loss: 6.0685\n",
            "------------------------------\n",
            "Epoch: 42, Loss: 6.1361\n",
            "------------------------------\n",
            "Epoch: 43, Loss: 5.8040\n",
            "------------------------------\n",
            "Epoch: 44, Loss: 5.7928\n",
            "------------------------------\n",
            "Epoch: 45, Loss: 5.5526\n",
            "------------------------------\n",
            "Epoch: 46, Loss: 5.3938\n",
            "------------------------------\n",
            "Epoch: 47, Loss: 5.3656\n",
            "------------------------------\n",
            "Epoch: 48, Loss: 5.3341\n",
            "------------------------------\n",
            "Epoch: 49, Loss: 5.1757\n",
            "------------------------------\n",
            "Epoch: 50, Loss: 5.1351\n",
            "------------------------------\n"
          ]
        }
      ]
    },
    {
      "cell_type": "markdown",
      "source": [
        "## **Prediction**"
      ],
      "metadata": {
        "id": "br05dKSpDWuZ"
      }
    },
    {
      "cell_type": "markdown",
      "source": [
        "- tokenize the input recieved\n",
        "\n",
        "- Convert the Recieved Text into Numbers.\n",
        "\n",
        "- Add padding to match the same input size\n",
        "\n",
        "- Padded Text to Model\n",
        "\n",
        "- Model will give the output\n",
        "\n",
        "- With output we will get the index of predicted word\n",
        "\n",
        "- merged the predicted word with text.\n",
        "\n",
        "- Return the merged text."
      ],
      "metadata": {
        "id": "Oy55PLPkDatB"
      }
    },
    {
      "cell_type": "code",
      "source": [
        "def prediction(model, vocab, text):\n",
        "\n",
        "  # tokenize\n",
        "  token_word = word_tokenize(text.lower())\n",
        "\n",
        "  # index\n",
        "  index_of_text = text_to_indices(token_word, vocab)\n",
        "\n",
        "  # padding\n",
        "  padded_text = [0] * (34 - len(index_of_text)) + index_of_text\n",
        "\n",
        "  # tensor(batchsize, num of words)\n",
        "  tensor_text = torch.tensor(padded_text, dtype=torch.long).unsqueeze(0)\n",
        "\n",
        "  # send to model\n",
        "  output = model.forward(tensor_text)\n",
        "\n",
        "  # Fetch maximum value\n",
        "  value, index = torch.max(output, dim=1)\n",
        "\n",
        "  # Get word of the index\n",
        "  next_word = list(vocab.keys())[index]\n",
        "\n",
        "  # merge with text\n",
        "  return text + \" \" + next_word"
      ],
      "metadata": {
        "id": "C1fevFoqBwrQ"
      },
      "execution_count": 65,
      "outputs": []
    },
    {
      "cell_type": "code",
      "source": [
        "prediction(model, vocabs, \"The course follows\")"
      ],
      "metadata": {
        "colab": {
          "base_uri": "https://localhost:8080/",
          "height": 35
        },
        "id": "45ARVAULEJzL",
        "outputId": "3d298db9-55c3-4ddf-c9d4-778c078518bf"
      },
      "execution_count": 66,
      "outputs": [
        {
          "output_type": "execute_result",
          "data": {
            "text/plain": [
              "'The course follows security'"
            ],
            "application/vnd.google.colaboratory.intrinsic+json": {
              "type": "string"
            }
          },
          "metadata": {},
          "execution_count": 66
        }
      ]
    },
    {
      "cell_type": "code",
      "source": [
        "\"\"\"\n",
        "To predict next n words\n",
        "\"\"\"\n",
        "\n",
        "import time\n",
        "\n",
        "num_tokens = 10\n",
        "input_text = \"You can check the\"\n",
        "\n",
        "for i in range(num_tokens):\n",
        "  output_text = prediction(model, vocabs, input_text)\n",
        "  print(output_text)\n",
        "  input_text = output_text\n",
        "  time.sleep(0.5)\n"
      ],
      "metadata": {
        "colab": {
          "base_uri": "https://localhost:8080/"
        },
        "id": "mvvEFzVbFQII",
        "outputId": "19c1cc63-c310-483b-c27e-256a8f765727"
      },
      "execution_count": 68,
      "outputs": [
        {
          "output_type": "stream",
          "name": "stdout",
          "text": [
            "You can check the professional\n",
            "You can check the professional plan\n",
            "You can check the professional plan cost\n",
            "You can check the professional plan cost per\n",
            "You can check the professional plan cost per month\n",
            "You can check the professional plan cost per month ,\n",
            "You can check the professional plan cost per month , or\n",
            "You can check the professional plan cost per month , or pdf\n",
            "You can check the professional plan cost per month , or pdf )\n",
            "You can check the professional plan cost per month , or pdf ) ?\n"
          ]
        }
      ]
    },
    {
      "cell_type": "markdown",
      "source": [
        "## EValuation"
      ],
      "metadata": {
        "id": "UbDv6hjwGl0j"
      }
    },
    {
      "cell_type": "code",
      "source": [
        "dataloader1 = DataLoader(dataset, batch_size=32, shuffle=False)"
      ],
      "metadata": {
        "id": "rbSzELpSGK8f"
      },
      "execution_count": 69,
      "outputs": []
    },
    {
      "cell_type": "code",
      "source": [
        "model.eval()"
      ],
      "metadata": {
        "colab": {
          "base_uri": "https://localhost:8080/"
        },
        "id": "X0D7j7NJGpUB",
        "outputId": "5fb7ca4d-fd09-49ec-de93-30e714397ebb"
      },
      "execution_count": 70,
      "outputs": [
        {
          "output_type": "execute_result",
          "data": {
            "text/plain": [
              "MyLSTM(\n",
              "  (embedding): Embedding(449, 100)\n",
              "  (lstm): LSTM(100, 150, batch_first=True)\n",
              "  (fc): Linear(in_features=150, out_features=449, bias=True)\n",
              ")"
            ]
          },
          "metadata": {},
          "execution_count": 70
        }
      ]
    },
    {
      "cell_type": "code",
      "source": [
        "# Function to calculate accuracy\n",
        "def calculate_accuracy(model, dataloader, device):\n",
        "    correct = 0\n",
        "    total = 0\n",
        "\n",
        "    with torch.no_grad():  # No need to compute gradients\n",
        "        for batch_x, batch_y in dataloader1:\n",
        "            batch_x, batch_y = batch_x.to(device), batch_y.to(device)\n",
        "\n",
        "            # Get model predictions\n",
        "            outputs = model(batch_x)\n",
        "\n",
        "            # Get the predicted word indices\n",
        "            _, predicted = torch.max(outputs, dim=1)\n",
        "\n",
        "            # Compare with actual labels\n",
        "            correct += (predicted == batch_y).sum().item()\n",
        "            total += batch_y.size(0)\n",
        "\n",
        "    accuracy = correct / total * 100\n",
        "    return accuracy\n",
        "\n",
        "# Compute accuracy\n",
        "accuracy = calculate_accuracy(model, dataloader, device)\n",
        "print(f\"Model Accuracy: {accuracy:.2f}%\")\n"
      ],
      "metadata": {
        "colab": {
          "base_uri": "https://localhost:8080/"
        },
        "id": "Zpc1ypbuGn7g",
        "outputId": "8f1e61bb-c9f1-4b41-faf2-d80a87afaa8a"
      },
      "execution_count": 71,
      "outputs": [
        {
          "output_type": "stream",
          "name": "stdout",
          "text": [
            "Model Accuracy: 95.61%\n"
          ]
        }
      ]
    },
    {
      "cell_type": "code",
      "source": [],
      "metadata": {
        "id": "sKftfJw3Gr2g"
      },
      "execution_count": null,
      "outputs": []
    }
  ]
}